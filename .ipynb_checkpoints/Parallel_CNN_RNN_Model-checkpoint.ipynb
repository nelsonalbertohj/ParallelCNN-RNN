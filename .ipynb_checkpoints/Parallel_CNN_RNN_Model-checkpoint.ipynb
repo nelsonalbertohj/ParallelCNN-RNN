{
 "cells": [
  {
   "cell_type": "markdown",
   "metadata": {},
   "source": [
    "### Important Details about EEG data:\n",
    "Sampple Frequency = 200 Hz\n",
    "\n",
    "Number of Samples = 621892\n",
    "\n",
    "Duration of trial = 0.85 seconds after onset, which is indicated by firs non-zero marker value from marker data."
   ]
  },
  {
   "cell_type": "markdown",
   "metadata": {},
   "source": [
    "### Signal Extraction and Feature Engineering"
   ]
  },
  {
   "cell_type": "code",
   "execution_count": 4,
   "metadata": {
    "scrolled": false
   },
   "outputs": [
    {
     "name": "stdout",
     "output_type": "stream",
     "text": [
      "Requirement already satisfied: keras in c:\\users\\nelso\\anaconda3\\lib\\site-packages (2.4.3)\n",
      "Requirement already satisfied: h5py in c:\\users\\nelso\\anaconda3\\lib\\site-packages (from keras) (2.10.0)\n",
      "Requirement already satisfied: numpy>=1.9.1 in c:\\users\\nelso\\anaconda3\\lib\\site-packages (from keras) (1.19.2)\n",
      "Requirement already satisfied: scipy>=0.14 in c:\\users\\nelso\\anaconda3\\lib\\site-packages (from keras) (1.5.2)\n",
      "Requirement already satisfied: pyyaml in c:\\users\\nelso\\anaconda3\\lib\\site-packages (from keras) (5.3.1)\n",
      "Requirement already satisfied: six in c:\\users\\nelso\\anaconda3\\lib\\site-packages (from h5py->keras) (1.15.0)\n"
     ]
    }
   ],
   "source": [
    "!pip install keras\n",
    "\n",
    "import scipy.io\n",
    "import numpy as np\n",
    "import matplotlib.pyplot as plt\n",
    "import mne\n",
    "import tensorflow as tf"
   ]
  },
  {
   "cell_type": "code",
   "execution_count": 434,
   "metadata": {},
   "outputs": [],
   "source": [
    "from sklearn.metrics import confusion_matrix, plot_confusion_matrix\n",
    "import pandas as pd\n",
    "import seaborn as sn"
   ]
  },
  {
   "cell_type": "code",
   "execution_count": 333,
   "metadata": {
    "scrolled": true
   },
   "outputs": [],
   "source": [
    "def mat_loader(file,var_list=['o'],def_inputs = False):\n",
    "    '''\n",
    "    file: string, path to file.\n",
    "    var: list of string, name of element(s) in .mat \n",
    "    file to be extracted.\n",
    "    return: dict holding one or more elements from specified var\n",
    "    \n",
    "    required libraries: scipy.io\n",
    "    '''\n",
    "    print('.mat file has the following elements',scipy.io.whosmat(file))\n",
    "    mat_to_dict = {}\n",
    "    for var in var_list:\n",
    "        if def_inputs:\n",
    "            print('Choose from first element from tuples in this list', \n",
    "                  scipy.io.whosmat(file))\n",
    "            var = input('Input string label from above')\n",
    "        mat_load = scipy.io.loadmat('CLA-SubjectJ-170508-3St-LRHand-Inter')\n",
    "        keys = [e for e in dict(mat_load[var].dtype.fields).keys()]\n",
    "        print('Structure had these keys:', keys)\n",
    "        for i in range(len(keys)):\n",
    "            mat_to_dict[keys[i]] = mat_load[var][0][0][i]\n",
    "    return mat_to_dict"
   ]
  },
  {
   "cell_type": "code",
   "execution_count": 334,
   "metadata": {
    "scrolled": true
   },
   "outputs": [
    {
     "name": "stdout",
     "output_type": "stream",
     "text": [
      ".mat file has the following elements [('ans', (1, 1), 'double'), ('o', (1, 1), 'struct'), ('x', (533, 1), 'double')]\n",
      "Structure had these keys: ['id', 'tag', 'nS', 'sampFreq', 'marker', 'marker_old', 'data', 'chnames', 'binsuV']\n"
     ]
    }
   ],
   "source": [
    "mat_dict = mat_loader('CLA-SubjectJ-170508-3St-LRHand-Inter',['o'])"
   ]
  },
  {
   "cell_type": "code",
   "execution_count": 335,
   "metadata": {},
   "outputs": [],
   "source": [
    "def eeg_data_loader(mat_loader,eeg_data='data',marker='marker',chan_names='chnames'):\n",
    "    '''\n",
    "    Takes in mat_loader, a dictionary with keys that map to eeg data information,\n",
    "    and extracts data from the given eeg_data, marker, chan_names keys:\n",
    "    \n",
    "    mat_loader: dict, mapping labels to its respective eeg data\n",
    "    eeg_data: string, dictionary key\n",
    "    marker: string, dictionary key\n",
    "    chan_names: string, dictionary key\n",
    "    \n",
    "    return: tuple with 3 elements, (raw_eeg_unfiltered, marker, chan_names)\n",
    "    '''\n",
    "    #Extract eeg data from .mat files\n",
    "    raw_eeg_unfiltered = mat_loader[eeg_data].transpose()[:21,:]\n",
    "    #^only takes the first 21 channels which are the actual EEG channels\n",
    "    marker = mat_loader[marker]\n",
    "    chan_names = mat_loader[chan_names]\n",
    "\n",
    "    #format chan_names as a list to be used in that format for RawEEG function\n",
    "    chan_names = [st[0][0] for st in chan_names]\n",
    "    chan_names.append('STI 1')\n",
    "    \n",
    "    return (raw_eeg_unfiltered,marker,chan_names)"
   ]
  },
  {
   "cell_type": "code",
   "execution_count": 336,
   "metadata": {
    "scrolled": true
   },
   "outputs": [],
   "source": [
    "(raw_eeg_unfiltered1,marker1,chan_names1) = eeg_data_loader(mat_dict)"
   ]
  },
  {
   "cell_type": "code",
   "execution_count": null,
   "metadata": {},
   "outputs": [],
   "source": [
    "def preprocessing(raw_eeg_unfiltered,samp_freq=200,l_fq=1,h_fq=40):\n",
    "    #Bandpass filter eeg data from 1 Hz to 40 Hz\n",
    "    raw_eeg = mne.filter.filter_data(raw_eeg_unfiltered, samp_freq, l_fq, h_fq)\n",
    "    \n",
    "    #Make marker last EEG label\n",
    "    raw_eeg = np.concatenate((raw_eeg, marker.flatten().reshape(1,-1)),axis=0)\n",
    "    \n",
    "    #Generate RawArray object to facilitate EEG analysis with mne\n",
    "    eeg_raw = mne.io.RawArray(raw_eeg,info= mne.create_info(chan_names,samp_freq))\n",
    "    print(eeg_raw.info)\n",
    "    \n",
    "    #Detect events in the data, containing \n",
    "    eeg_events = mne.find_events(eeg_raw,stim_channel='STI 1')\n",
    "    #^ rows= n_events columns = (time,nothing,event_ID)\n",
    "    \n",
    "    #Extract epochs from raw EEG\n",
    "    eeg_epochs = mne.Epochs(eeg_raw,eeg_events,\n",
    "                        event_id=[1,2,3],\n",
    "                        tmin=-0.2,tmax=0.8)\n",
    "    \n",
    "    return (eeg_raw, eeg_events, eeg_epochs)"
   ]
  },
  {
   "cell_type": "code",
   "execution_count": 15,
   "metadata": {
    "scrolled": true
   },
   "outputs": [
    {
     "name": "stdout",
     "output_type": "stream",
     "text": [
      "Setting up band-pass filter from 1 - 40 Hz\n",
      "\n",
      "FIR filter parameters\n",
      "---------------------\n",
      "Designing a one-pass, zero-phase, non-causal bandpass filter:\n",
      "- Windowed time-domain design (firwin) method\n",
      "- Hamming window with 0.0194 passband ripple and 53 dB stopband attenuation\n",
      "- Lower passband edge: 1.00\n",
      "- Lower transition bandwidth: 1.00 Hz (-6 dB cutoff frequency: 0.50 Hz)\n",
      "- Upper passband edge: 40.00 Hz\n",
      "- Upper transition bandwidth: 10.00 Hz (-6 dB cutoff frequency: 45.00 Hz)\n",
      "- Filter length: 661 samples (3.305 sec)\n",
      "\n"
     ]
    }
   ],
   "source": [
    "#Bandpass filter eeg data from 1 Hz to 40 Hz\n",
    "raw_eeg = mne.filter.filter_data(raw_eeg_unfiltered, 200, 1, 40)"
   ]
  },
  {
   "cell_type": "code",
   "execution_count": 17,
   "metadata": {},
   "outputs": [],
   "source": [
    "#Combine marker \n",
    "raw_eeg = np.concatenate((raw_eeg, marker.flatten().reshape(1,-1)),axis=0)"
   ]
  },
  {
   "cell_type": "code",
   "execution_count": 18,
   "metadata": {},
   "outputs": [
    {
     "name": "stdout",
     "output_type": "stream",
     "text": [
      "Creating RawArray with float64 data, n_channels=22, n_times=621892\n",
      "    Range : 0 ... 621891 =      0.000 ...  3109.455 secs\n",
      "Ready.\n"
     ]
    }
   ],
   "source": [
    "#Generate RawArray object to facilitate EEG analysis with mne\n",
    "samp_freq = 200\n",
    "eeg_raw = mne.io.RawArray(raw_eeg,info= mne.create_info(chan_names,samp_freq))"
   ]
  },
  {
   "cell_type": "code",
   "execution_count": 19,
   "metadata": {
    "scrolled": true
   },
   "outputs": [
    {
     "data": {
      "text/plain": [
       "<Info | 7 non-empty values\n",
       " bads: []\n",
       " ch_names: Fp1, Fp2, F3, F4, C3, C4, P3, P4, O1, O2, A1, A2, F7, F8, T3, ...\n",
       " chs: 22 MISC\n",
       " custom_ref_applied: False\n",
       " highpass: 0.0 Hz\n",
       " lowpass: 100.0 Hz\n",
       " meas_date: unspecified\n",
       " nchan: 22\n",
       " projs: []\n",
       " sfreq: 200.0 Hz\n",
       ">"
      ]
     },
     "execution_count": 19,
     "metadata": {},
     "output_type": "execute_result"
    }
   ],
   "source": [
    "eeg_raw.info"
   ]
  },
  {
   "cell_type": "code",
   "execution_count": 349,
   "metadata": {},
   "outputs": [
    {
     "data": {
      "text/plain": [
       "['Fp1',\n",
       " 'Fp2',\n",
       " 'F3',\n",
       " 'F4',\n",
       " 'C3',\n",
       " 'C4',\n",
       " 'P3',\n",
       " 'P4',\n",
       " 'O1',\n",
       " 'O2',\n",
       " 'A1',\n",
       " 'A2',\n",
       " 'F7',\n",
       " 'F8',\n",
       " 'T3',\n",
       " 'T4',\n",
       " 'T5',\n",
       " 'T6',\n",
       " 'Fz',\n",
       " 'Cz',\n",
       " 'Pz']"
      ]
     },
     "execution_count": 349,
     "metadata": {},
     "output_type": "execute_result"
    }
   ],
   "source": [
    "eeg_raw.info.ch_names[:-1]"
   ]
  },
  {
   "cell_type": "code",
   "execution_count": 140,
   "metadata": {
    "scrolled": true
   },
   "outputs": [
    {
     "name": "stdout",
     "output_type": "stream",
     "text": [
      "900 events found\n",
      "Event IDs: [1 2 3]\n"
     ]
    },
    {
     "data": {
      "text/plain": [
       "array([[ 28542,      0,      3],\n",
       "       [ 29069,      0,      3],\n",
       "       [ 29688,      0,      1],\n",
       "       ...,\n",
       "       [614471,      0,      1],\n",
       "       [614982,      0,      2],\n",
       "       [615542,      0,      1]], dtype=int64)"
      ]
     },
     "execution_count": 140,
     "metadata": {},
     "output_type": "execute_result"
    }
   ],
   "source": [
    "#Detect events in the data, containing \n",
    "eeg_events = mne.find_events(eeg_raw,stim_channel='STI 1')\n",
    "eeg_events #rows= n_events columns = (time,nothing,event_ID)"
   ]
  },
  {
   "cell_type": "code",
   "execution_count": 22,
   "metadata": {},
   "outputs": [
    {
     "name": "stdout",
     "output_type": "stream",
     "text": [
      "Not setting metadata\n",
      "Not setting metadata\n",
      "900 matching events found\n",
      "Setting baseline interval to [-0.2, 0.0] sec\n",
      "Applying baseline correction (mode: mean)\n",
      "0 projection items activated\n"
     ]
    }
   ],
   "source": [
    "#Extract epochs from raw EEG\n",
    "eeg_epochs = mne.Epochs(eeg_raw,eeg_events,\n",
    "                        event_id=[1,2,3],\n",
    "                        tmin=-0.2,tmax=0.8)"
   ]
  },
  {
   "cell_type": "code",
   "execution_count": 350,
   "metadata": {},
   "outputs": [
    {
     "name": "stdout",
     "output_type": "stream",
     "text": [
      "Loading data for 900 events and 201 original time points ...\n"
     ]
    }
   ],
   "source": [
    "np_epochs = eeg_epochs.get_data(picks=eeg_raw.info.ch_names[:-1])"
   ]
  },
  {
   "cell_type": "code",
   "execution_count": 351,
   "metadata": {},
   "outputs": [
    {
     "data": {
      "text/plain": [
       "(900, 21, 201)"
      ]
     },
     "execution_count": 351,
     "metadata": {},
     "output_type": "execute_result"
    }
   ],
   "source": [
    "np_epochs.shape"
   ]
  },
  {
   "cell_type": "code",
   "execution_count": 352,
   "metadata": {},
   "outputs": [
    {
     "data": {
      "text/plain": [
       "[<matplotlib.lines.Line2D at 0x12ad8023e50>]"
      ]
     },
     "execution_count": 352,
     "metadata": {},
     "output_type": "execute_result"
    },
    {
     "data": {
      "image/png": "[encoded data removed]",
      "text/plain": [
       "<Figure size 432x288 with 1 Axes>"
      ]
     },
     "metadata": {
      "needs_background": "light"
     },
     "output_type": "display_data"
    }
   ],
   "source": [
    "plt.plot(np_epochs[0][2])"
   ]
  },
  {
   "cell_type": "code",
   "execution_count": 138,
   "metadata": {},
   "outputs": [
    {
     "name": "stdout",
     "output_type": "stream",
     "text": [
      "Loading data for 900 events and 201 original time points ...\n",
      "Index(['time', 'condition', 'epoch', 'Fp1', 'Fp2', 'F3', 'F4', 'C3', 'C4',\n",
      "       'P3', 'P4', 'O1', 'O2', 'A1', 'A2', 'F7', 'F8', 'T3', 'T4', 'T5', 'T6',\n",
      "       'Fz', 'Cz', 'Pz', 'STI 1'],\n",
      "      dtype='object')\n"
     ]
    },
    {
     "data": {
      "text/html": [
       "<div>\n",
       "<style scoped>\n",
       "    .dataframe tbody tr th:only-of-type {\n",
       "        vertical-align: middle;\n",
       "    }\n",
       "\n",
       "    .dataframe tbody tr th {\n",
       "        vertical-align: top;\n",
       "    }\n",
       "\n",
       "    .dataframe thead th {\n",
       "        text-align: right;\n",
       "    }\n",
       "</style>\n",
       "<table border=\"1\" class=\"dataframe\">\n",
       "  <thead>\n",
       "    <tr style=\"text-align: right;\">\n",
       "      <th></th>\n",
       "      <th>time</th>\n",
       "      <th>condition</th>\n",
       "      <th>epoch</th>\n",
       "      <th>Fp1</th>\n",
       "      <th>Fp2</th>\n",
       "      <th>F3</th>\n",
       "      <th>F4</th>\n",
       "      <th>C3</th>\n",
       "      <th>C4</th>\n",
       "      <th>P3</th>\n",
       "      <th>...</th>\n",
       "      <th>F7</th>\n",
       "      <th>F8</th>\n",
       "      <th>T3</th>\n",
       "      <th>T4</th>\n",
       "      <th>T5</th>\n",
       "      <th>T6</th>\n",
       "      <th>Fz</th>\n",
       "      <th>Cz</th>\n",
       "      <th>Pz</th>\n",
       "      <th>STI 1</th>\n",
       "    </tr>\n",
       "  </thead>\n",
       "  <tbody>\n",
       "    <tr>\n",
       "      <th>0</th>\n",
       "      <td>-200</td>\n",
       "      <td>3</td>\n",
       "      <td>0</td>\n",
       "      <td>5.053199</td>\n",
       "      <td>2.689989</td>\n",
       "      <td>-5.803276</td>\n",
       "      <td>4.002702</td>\n",
       "      <td>-6.043346</td>\n",
       "      <td>5.773800</td>\n",
       "      <td>-0.234529</td>\n",
       "      <td>...</td>\n",
       "      <td>3.236365</td>\n",
       "      <td>4.221769</td>\n",
       "      <td>12.632798</td>\n",
       "      <td>7.946899</td>\n",
       "      <td>2.946757</td>\n",
       "      <td>1.735178</td>\n",
       "      <td>1.712242</td>\n",
       "      <td>1.619176</td>\n",
       "      <td>-0.883479</td>\n",
       "      <td>0.0</td>\n",
       "    </tr>\n",
       "    <tr>\n",
       "      <th>1</th>\n",
       "      <td>-195</td>\n",
       "      <td>3</td>\n",
       "      <td>0</td>\n",
       "      <td>6.503455</td>\n",
       "      <td>5.232009</td>\n",
       "      <td>0.832902</td>\n",
       "      <td>1.828446</td>\n",
       "      <td>-4.332377</td>\n",
       "      <td>4.276317</td>\n",
       "      <td>4.386328</td>\n",
       "      <td>...</td>\n",
       "      <td>3.257334</td>\n",
       "      <td>6.122839</td>\n",
       "      <td>14.158893</td>\n",
       "      <td>11.160727</td>\n",
       "      <td>7.626500</td>\n",
       "      <td>4.496519</td>\n",
       "      <td>2.327678</td>\n",
       "      <td>3.848168</td>\n",
       "      <td>3.486017</td>\n",
       "      <td>0.0</td>\n",
       "    </tr>\n",
       "    <tr>\n",
       "      <th>2</th>\n",
       "      <td>-190</td>\n",
       "      <td>3</td>\n",
       "      <td>0</td>\n",
       "      <td>3.911538</td>\n",
       "      <td>4.800934</td>\n",
       "      <td>3.859604</td>\n",
       "      <td>-1.343946</td>\n",
       "      <td>-1.610117</td>\n",
       "      <td>1.819806</td>\n",
       "      <td>5.091662</td>\n",
       "      <td>...</td>\n",
       "      <td>2.946959</td>\n",
       "      <td>4.309575</td>\n",
       "      <td>6.603486</td>\n",
       "      <td>9.151607</td>\n",
       "      <td>6.171512</td>\n",
       "      <td>3.889637</td>\n",
       "      <td>0.252421</td>\n",
       "      <td>3.040710</td>\n",
       "      <td>2.822846</td>\n",
       "      <td>0.0</td>\n",
       "    </tr>\n",
       "    <tr>\n",
       "      <th>3</th>\n",
       "      <td>-185</td>\n",
       "      <td>3</td>\n",
       "      <td>0</td>\n",
       "      <td>-0.991432</td>\n",
       "      <td>1.366300</td>\n",
       "      <td>1.864193</td>\n",
       "      <td>-1.580487</td>\n",
       "      <td>-0.429201</td>\n",
       "      <td>0.748691</td>\n",
       "      <td>2.424969</td>\n",
       "      <td>...</td>\n",
       "      <td>-1.152791</td>\n",
       "      <td>0.187703</td>\n",
       "      <td>-3.890810</td>\n",
       "      <td>2.657826</td>\n",
       "      <td>1.102557</td>\n",
       "      <td>1.425391</td>\n",
       "      <td>-1.194037</td>\n",
       "      <td>0.830799</td>\n",
       "      <td>-1.070341</td>\n",
       "      <td>0.0</td>\n",
       "    </tr>\n",
       "    <tr>\n",
       "      <th>4</th>\n",
       "      <td>-180</td>\n",
       "      <td>3</td>\n",
       "      <td>0</td>\n",
       "      <td>-3.767158</td>\n",
       "      <td>-1.432812</td>\n",
       "      <td>-1.848027</td>\n",
       "      <td>1.027544</td>\n",
       "      <td>-1.404354</td>\n",
       "      <td>1.785669</td>\n",
       "      <td>0.306342</td>\n",
       "      <td>...</td>\n",
       "      <td>-6.994637</td>\n",
       "      <td>-1.371632</td>\n",
       "      <td>-9.674841</td>\n",
       "      <td>-2.264825</td>\n",
       "      <td>-2.245277</td>\n",
       "      <td>0.089745</td>\n",
       "      <td>-0.013839</td>\n",
       "      <td>0.051714</td>\n",
       "      <td>-2.919657</td>\n",
       "      <td>0.0</td>\n",
       "    </tr>\n",
       "    <tr>\n",
       "      <th>...</th>\n",
       "      <td>...</td>\n",
       "      <td>...</td>\n",
       "      <td>...</td>\n",
       "      <td>...</td>\n",
       "      <td>...</td>\n",
       "      <td>...</td>\n",
       "      <td>...</td>\n",
       "      <td>...</td>\n",
       "      <td>...</td>\n",
       "      <td>...</td>\n",
       "      <td>...</td>\n",
       "      <td>...</td>\n",
       "      <td>...</td>\n",
       "      <td>...</td>\n",
       "      <td>...</td>\n",
       "      <td>...</td>\n",
       "      <td>...</td>\n",
       "      <td>...</td>\n",
       "      <td>...</td>\n",
       "      <td>...</td>\n",
       "      <td>...</td>\n",
       "    </tr>\n",
       "    <tr>\n",
       "      <th>180895</th>\n",
       "      <td>780</td>\n",
       "      <td>1</td>\n",
       "      <td>899</td>\n",
       "      <td>-18.801772</td>\n",
       "      <td>-11.325824</td>\n",
       "      <td>-7.682501</td>\n",
       "      <td>2.037508</td>\n",
       "      <td>-0.560179</td>\n",
       "      <td>1.267404</td>\n",
       "      <td>4.063049</td>\n",
       "      <td>...</td>\n",
       "      <td>-10.162613</td>\n",
       "      <td>3.126943</td>\n",
       "      <td>-8.696414</td>\n",
       "      <td>-3.591924</td>\n",
       "      <td>-6.715831</td>\n",
       "      <td>-5.540434</td>\n",
       "      <td>1.245541</td>\n",
       "      <td>7.730074</td>\n",
       "      <td>11.315970</td>\n",
       "      <td>1.0</td>\n",
       "    </tr>\n",
       "    <tr>\n",
       "      <th>180896</th>\n",
       "      <td>785</td>\n",
       "      <td>1</td>\n",
       "      <td>899</td>\n",
       "      <td>-17.976744</td>\n",
       "      <td>-13.954906</td>\n",
       "      <td>-7.118366</td>\n",
       "      <td>1.500282</td>\n",
       "      <td>-0.951576</td>\n",
       "      <td>1.089905</td>\n",
       "      <td>3.542149</td>\n",
       "      <td>...</td>\n",
       "      <td>-9.728298</td>\n",
       "      <td>1.671579</td>\n",
       "      <td>-7.943194</td>\n",
       "      <td>-3.849091</td>\n",
       "      <td>-6.393213</td>\n",
       "      <td>-3.297807</td>\n",
       "      <td>0.241899</td>\n",
       "      <td>7.645967</td>\n",
       "      <td>11.359275</td>\n",
       "      <td>1.0</td>\n",
       "    </tr>\n",
       "    <tr>\n",
       "      <th>180897</th>\n",
       "      <td>790</td>\n",
       "      <td>1</td>\n",
       "      <td>899</td>\n",
       "      <td>-10.683867</td>\n",
       "      <td>-11.619120</td>\n",
       "      <td>-4.887296</td>\n",
       "      <td>-0.693662</td>\n",
       "      <td>-0.621122</td>\n",
       "      <td>0.589301</td>\n",
       "      <td>2.412776</td>\n",
       "      <td>...</td>\n",
       "      <td>-6.655877</td>\n",
       "      <td>0.755986</td>\n",
       "      <td>-4.370398</td>\n",
       "      <td>-4.575911</td>\n",
       "      <td>-4.890892</td>\n",
       "      <td>0.218031</td>\n",
       "      <td>-1.631375</td>\n",
       "      <td>5.476213</td>\n",
       "      <td>9.755518</td>\n",
       "      <td>1.0</td>\n",
       "    </tr>\n",
       "    <tr>\n",
       "      <th>180898</th>\n",
       "      <td>795</td>\n",
       "      <td>1</td>\n",
       "      <td>899</td>\n",
       "      <td>-2.138425</td>\n",
       "      <td>-7.090175</td>\n",
       "      <td>-2.307934</td>\n",
       "      <td>-3.045653</td>\n",
       "      <td>-0.022509</td>\n",
       "      <td>0.422084</td>\n",
       "      <td>1.251983</td>\n",
       "      <td>...</td>\n",
       "      <td>-2.880932</td>\n",
       "      <td>1.682184</td>\n",
       "      <td>0.264064</td>\n",
       "      <td>-3.136103</td>\n",
       "      <td>-2.163110</td>\n",
       "      <td>6.108863</td>\n",
       "      <td>-3.507241</td>\n",
       "      <td>1.933979</td>\n",
       "      <td>7.074663</td>\n",
       "      <td>1.0</td>\n",
       "    </tr>\n",
       "    <tr>\n",
       "      <th>180899</th>\n",
       "      <td>800</td>\n",
       "      <td>1</td>\n",
       "      <td>899</td>\n",
       "      <td>1.401806</td>\n",
       "      <td>-3.640922</td>\n",
       "      <td>-1.007667</td>\n",
       "      <td>-3.962688</td>\n",
       "      <td>-0.503156</td>\n",
       "      <td>1.189531</td>\n",
       "      <td>0.176418</td>\n",
       "      <td>...</td>\n",
       "      <td>-0.882754</td>\n",
       "      <td>3.725227</td>\n",
       "      <td>3.347457</td>\n",
       "      <td>0.880432</td>\n",
       "      <td>0.594582</td>\n",
       "      <td>13.756105</td>\n",
       "      <td>-4.842547</td>\n",
       "      <td>-1.496817</td>\n",
       "      <td>4.116201</td>\n",
       "      <td>1.0</td>\n",
       "    </tr>\n",
       "  </tbody>\n",
       "</table>\n",
       "<p>180900 rows × 25 columns</p>\n",
       "</div>"
      ],
      "text/plain": [
       "        time condition  epoch        Fp1        Fp2        F3        F4  \\\n",
       "0       -200         3      0   5.053199   2.689989 -5.803276  4.002702   \n",
       "1       -195         3      0   6.503455   5.232009  0.832902  1.828446   \n",
       "2       -190         3      0   3.911538   4.800934  3.859604 -1.343946   \n",
       "3       -185         3      0  -0.991432   1.366300  1.864193 -1.580487   \n",
       "4       -180         3      0  -3.767158  -1.432812 -1.848027  1.027544   \n",
       "...      ...       ...    ...        ...        ...       ...       ...   \n",
       "180895   780         1    899 -18.801772 -11.325824 -7.682501  2.037508   \n",
       "180896   785         1    899 -17.976744 -13.954906 -7.118366  1.500282   \n",
       "180897   790         1    899 -10.683867 -11.619120 -4.887296 -0.693662   \n",
       "180898   795         1    899  -2.138425  -7.090175 -2.307934 -3.045653   \n",
       "180899   800         1    899   1.401806  -3.640922 -1.007667 -3.962688   \n",
       "\n",
       "              C3        C4        P3  ...         F7        F8         T3  \\\n",
       "0      -6.043346  5.773800 -0.234529  ...   3.236365  4.221769  12.632798   \n",
       "1      -4.332377  4.276317  4.386328  ...   3.257334  6.122839  14.158893   \n",
       "2      -1.610117  1.819806  5.091662  ...   2.946959  4.309575   6.603486   \n",
       "3      -0.429201  0.748691  2.424969  ...  -1.152791  0.187703  -3.890810   \n",
       "4      -1.404354  1.785669  0.306342  ...  -6.994637 -1.371632  -9.674841   \n",
       "...          ...       ...       ...  ...        ...       ...        ...   \n",
       "180895 -0.560179  1.267404  4.063049  ... -10.162613  3.126943  -8.696414   \n",
       "180896 -0.951576  1.089905  3.542149  ...  -9.728298  1.671579  -7.943194   \n",
       "180897 -0.621122  0.589301  2.412776  ...  -6.655877  0.755986  -4.370398   \n",
       "180898 -0.022509  0.422084  1.251983  ...  -2.880932  1.682184   0.264064   \n",
       "180899 -0.503156  1.189531  0.176418  ...  -0.882754  3.725227   3.347457   \n",
       "\n",
       "               T4        T5         T6        Fz        Cz         Pz  STI 1  \n",
       "0        7.946899  2.946757   1.735178  1.712242  1.619176  -0.883479    0.0  \n",
       "1       11.160727  7.626500   4.496519  2.327678  3.848168   3.486017    0.0  \n",
       "2        9.151607  6.171512   3.889637  0.252421  3.040710   2.822846    0.0  \n",
       "3        2.657826  1.102557   1.425391 -1.194037  0.830799  -1.070341    0.0  \n",
       "4       -2.264825 -2.245277   0.089745 -0.013839  0.051714  -2.919657    0.0  \n",
       "...           ...       ...        ...       ...       ...        ...    ...  \n",
       "180895  -3.591924 -6.715831  -5.540434  1.245541  7.730074  11.315970    1.0  \n",
       "180896  -3.849091 -6.393213  -3.297807  0.241899  7.645967  11.359275    1.0  \n",
       "180897  -4.575911 -4.890892   0.218031 -1.631375  5.476213   9.755518    1.0  \n",
       "180898  -3.136103 -2.163110   6.108863 -3.507241  1.933979   7.074663    1.0  \n",
       "180899   0.880432  0.594582  13.756105 -4.842547 -1.496817   4.116201    1.0  \n",
       "\n",
       "[180900 rows x 25 columns]"
      ]
     },
     "execution_count": 138,
     "metadata": {},
     "output_type": "execute_result"
    }
   ],
   "source": [
    "df_epochs = eeg_epochs.to_data_frame(picks='all')\n",
    "print(df_epochs.columns)\n",
    "df_epochs"
   ]
  },
  {
   "cell_type": "code",
   "execution_count": 139,
   "metadata": {},
   "outputs": [
    {
     "data": {
      "text/plain": [
       "900"
      ]
     },
     "execution_count": 139,
     "metadata": {},
     "output_type": "execute_result"
    }
   ],
   "source": [
    "#Obtain labels for each epoch (instead of each time step)\n",
    "labels = []\n",
    "for i in df_epochs['epoch'].unique():\n",
    "    labels.append(np.array(df_epochs['condition'][df_epochs['epoch'] == i])[0])\n",
    "len(labels)"
   ]
  },
  {
   "cell_type": "code",
   "execution_count": 51,
   "metadata": {},
   "outputs": [],
   "source": [
    "from sklearn.model_selection import train_test_split"
   ]
  },
  {
   "cell_type": "code",
   "execution_count": 353,
   "metadata": {},
   "outputs": [
    {
     "name": "stdout",
     "output_type": "stream",
     "text": [
      "(180, 201, 21)\n",
      "(180, 4)\n"
     ]
    }
   ],
   "source": [
    "X_train, X_test, y_train, y_test = train_test_split(np_epochs, labels, test_size=0.20, random_state=42)\n",
    "y_true = y_test\n",
    "\n",
    "#Reshape X as (epochs,time steps,features) from original (epochs,features,time_setp)\n",
    "X_train = np.transpose(X_train, (0,2,1))\n",
    "X_test = np.transpose(X_test, (0,2,1))\n",
    "\n",
    "#One-hot-encode train labels\n",
    "y_train = tf.keras.utils.to_categorical(y_train) \n",
    "y_test = tf.keras.utils.to_categorical(y_test)\n",
    "\n",
    "print(X_test.shape)\n",
    "print(y_test.shape)"
   ]
  },
  {
   "cell_type": "code",
   "execution_count": 354,
   "metadata": {},
   "outputs": [
    {
     "data": {
      "text/plain": [
       "(720, 201, 21)"
      ]
     },
     "execution_count": 354,
     "metadata": {},
     "output_type": "execute_result"
    }
   ],
   "source": [
    "X_train.shape"
   ]
  },
  {
   "cell_type": "code",
   "execution_count": 491,
   "metadata": {},
   "outputs": [],
   "source": [
    "class eegRNN(tf.keras.Model):\n",
    "    def __init__(self,n_timesteps,n_features,n_outputs):\n",
    "        super().__init__()\n",
    "        self.n_timesteps = n_timesteps\n",
    "        self.n_features = n_features\n",
    "        self.n_outputs =  n_outputs\n",
    "        \n",
    "        self.rnn1 = tf.keras.layers.LSTM(20, return_sequences=True,input_shape= \n",
    "                                         (self.n_timesteps,self.n_features))\n",
    "        self.rnn2 = tf.keras.layers.LSTM(20,return_sequences=True)\n",
    "        self.rnn3 = tf.keras.layers.LSTM(20)\n",
    "        self.rnn_fc = tf.keras.layers.Dense(self.n_outputs, activation='softmax')\n",
    "        \n",
    "    def call(self,inputs):\n",
    "        '''\n",
    "        inputs: np.array with shape [batch, timesteps, feature]\n",
    "        '''\n",
    "        l = self.rnn1(inputs)\n",
    "        l = self.rnn2(l)\n",
    "        l = self.rnn3(l)\n",
    "        l = self.rnn_fc(l)\n",
    "        return l    "
   ]
  },
  {
   "cell_type": "code",
   "execution_count": 500,
   "metadata": {},
   "outputs": [],
   "source": [
    "rnn_model = eegRNN(X_train.shape[1],X_train.shape[2],y_train.shape[1])"
   ]
  },
  {
   "cell_type": "code",
   "execution_count": 501,
   "metadata": {},
   "outputs": [],
   "source": [
    "rnn_model.compile(loss = 'categorical_crossentropy', optimizer = 'adam', metrics = ['accuracy'])"
   ]
  },
  {
   "cell_type": "code",
   "execution_count": 502,
   "metadata": {
    "scrolled": true
   },
   "outputs": [
    {
     "name": "stdout",
     "output_type": "stream",
     "text": [
      "Epoch 1/30\n",
      "15/15 [==============================] - 5s 94ms/step - loss: 1.3351 - accuracy: 0.3180\n",
      "Epoch 2/30\n",
      "15/15 [==============================] - 2s 106ms/step - loss: 1.1700 - accuracy: 0.3767\n",
      "Epoch 3/30\n",
      "15/15 [==============================] - 1s 100ms/step - loss: 1.1009 - accuracy: 0.3990\n",
      "Epoch 4/30\n",
      "15/15 [==============================] - 1s 96ms/step - loss: 1.0570 - accuracy: 0.4800\n",
      "Epoch 5/30\n",
      "15/15 [==============================] - 1s 95ms/step - loss: 1.0077 - accuracy: 0.4978\n",
      "Epoch 6/30\n",
      "15/15 [==============================] - 1s 95ms/step - loss: 0.9272 - accuracy: 0.5518\n",
      "Epoch 7/30\n",
      "15/15 [==============================] - 1s 96ms/step - loss: 0.8450 - accuracy: 0.6069\n",
      "Epoch 8/30\n",
      "15/15 [==============================] - 1s 96ms/step - loss: 0.7643 - accuracy: 0.6408\n",
      "Epoch 9/30\n",
      "15/15 [==============================] - 1s 95ms/step - loss: 0.7735 - accuracy: 0.6385\n",
      "Epoch 10/30\n",
      "15/15 [==============================] - 1s 96ms/step - loss: 0.7090 - accuracy: 0.6749\n",
      "Epoch 11/30\n",
      "15/15 [==============================] - 1s 96ms/step - loss: 0.6402 - accuracy: 0.7164\n",
      "Epoch 12/30\n",
      "15/15 [==============================] - 1s 96ms/step - loss: 0.6431 - accuracy: 0.6988\n",
      "Epoch 13/30\n",
      "15/15 [==============================] - ETA: 0s - loss: 0.5831 - accuracy: 0.76 - 1s 95ms/step - loss: 0.5827 - accuracy: 0.7639\n",
      "Epoch 14/30\n",
      "15/15 [==============================] - 1s 94ms/step - loss: 0.4868 - accuracy: 0.8086\n",
      "Epoch 15/30\n",
      "15/15 [==============================] - 1s 95ms/step - loss: 0.5198 - accuracy: 0.8024\n",
      "Epoch 16/30\n",
      "15/15 [==============================] - 1s 95ms/step - loss: 0.4540 - accuracy: 0.8504\n",
      "Epoch 17/30\n",
      "15/15 [==============================] - 1s 95ms/step - loss: 0.4055 - accuracy: 0.8588\n",
      "Epoch 18/30\n",
      "15/15 [==============================] - 1s 95ms/step - loss: 0.3639 - accuracy: 0.8771\n",
      "Epoch 19/30\n",
      "15/15 [==============================] - 1s 95ms/step - loss: 0.3440 - accuracy: 0.8838\n",
      "Epoch 20/30\n",
      "15/15 [==============================] - 1s 95ms/step - loss: 0.3753 - accuracy: 0.8728\n",
      "Epoch 21/30\n",
      "15/15 [==============================] - 1s 95ms/step - loss: 0.3044 - accuracy: 0.9085\n",
      "Epoch 22/30\n",
      "15/15 [==============================] - 1s 95ms/step - loss: 0.3091 - accuracy: 0.8886\n",
      "Epoch 23/30\n",
      "15/15 [==============================] - 1s 96ms/step - loss: 0.2761 - accuracy: 0.9170\n",
      "Epoch 24/30\n",
      "15/15 [==============================] - 1s 94ms/step - loss: 0.2425 - accuracy: 0.9360\n",
      "Epoch 25/30\n",
      "15/15 [==============================] - 1s 96ms/step - loss: 0.2093 - accuracy: 0.9536\n",
      "Epoch 26/30\n",
      "15/15 [==============================] - 2s 101ms/step - loss: 0.1917 - accuracy: 0.9485\n",
      "Epoch 27/30\n",
      "15/15 [==============================] - 1s 96ms/step - loss: 0.1690 - accuracy: 0.9575\n",
      "Epoch 28/30\n",
      "15/15 [==============================] - 1s 98ms/step - loss: 0.1762 - accuracy: 0.9590\n",
      "Epoch 29/30\n",
      "15/15 [==============================] - 1s 97ms/step - loss: 0.1469 - accuracy: 0.9653\n",
      "Epoch 30/30\n",
      "15/15 [==============================] - 2s 102ms/step - loss: 0.1546 - accuracy: 0.9580\n"
     ]
    }
   ],
   "source": [
    "rnn_history = rnn_model.fit(X_train, y_train, epochs= 30, batch_size = 50)"
   ]
  },
  {
   "cell_type": "code",
   "execution_count": 503,
   "metadata": {
    "scrolled": false
   },
   "outputs": [
    {
     "data": {
      "text/plain": [
       "[<matplotlib.lines.Line2D at 0x12b44aff0d0>]"
      ]
     },
     "execution_count": 503,
     "metadata": {},
     "output_type": "execute_result"
    },
    {
     "data": {
      "image/png": "[encoded data removed]",
      "text/plain": [
       "<Figure size 432x288 with 1 Axes>"
      ]
     },
     "metadata": {
      "needs_background": "light"
     },
     "output_type": "display_data"
    }
   ],
   "source": [
    "plt.plot(rnn_history.history['accuracy'])"
   ]
  },
  {
   "cell_type": "code",
   "execution_count": 504,
   "metadata": {
    "scrolled": true
   },
   "outputs": [
    {
     "data": {
      "text/plain": [
       "[<matplotlib.lines.Line2D at 0x12b44b827c0>]"
      ]
     },
     "execution_count": 504,
     "metadata": {},
     "output_type": "execute_result"
    },
    {
     "data": {
      "image/png": "[encoded data removed]",
      "text/plain": [
       "<Figure size 432x288 with 1 Axes>"
      ]
     },
     "metadata": {
      "needs_background": "light"
     },
     "output_type": "display_data"
    }
   ],
   "source": [
    "plt.plot(rnn_history.history['loss'])"
   ]
  },
  {
   "cell_type": "code",
   "execution_count": 505,
   "metadata": {
    "scrolled": true
   },
   "outputs": [
    {
     "name": "stdout",
     "output_type": "stream",
     "text": [
      "6/6 [==============================] - 1s 26ms/step - loss: 0.8418 - accuracy: 0.7444\n"
     ]
    }
   ],
   "source": [
    "accuracy = rnn_model.evaluate(X_test, y_test)"
   ]
  },
  {
   "cell_type": "code",
   "execution_count": 498,
   "metadata": {},
   "outputs": [
    {
     "name": "stdout",
     "output_type": "stream",
     "text": [
      "[2, 2, 3, 2, 2, 1, 1, 3, 1, 1, 2, 1, 3, 1, 3, 1, 1, 2, 3, 1, 1, 3, 3, 2, 2, 2, 2, 1, 2, 1, 2, 2, 2, 1, 2, 2, 2, 2, 2, 2, 2, 2, 1, 2, 3, 2, 3, 2, 3, 3, 2, 2, 3, 2, 2, 1, 1, 3, 3, 1, 2, 1, 2, 2, 1, 2, 3, 3, 2, 1, 1, 1, 1, 3, 3, 1, 2, 2, 3, 2, 1, 3, 3, 1, 2, 2, 3, 3, 3, 2, 2, 3, 2, 2, 1, 2, 3, 1, 2, 2, 2, 1, 1, 1, 3, 3, 2, 2, 2, 3, 2, 3, 2, 1, 1, 1, 1, 3, 2, 2, 2, 2, 2, 1, 2, 2, 2, 3, 1, 2, 2, 2, 1, 3, 2, 1, 3, 3, 3, 3, 2, 2, 3, 3, 1, 2, 2, 1, 2, 1, 2, 1, 1, 2, 1, 2, 2, 1, 1, 1, 2, 1, 3, 2, 3, 2, 3, 3, 3, 2, 1, 1, 1, 3, 1, 3, 3, 2, 3, 1]\n",
      "[2, 2, 1, 1, 2, 3, 1, 3, 1, 1, 1, 2, 1, 1, 3, 1, 1, 2, 3, 1, 1, 3, 3, 2, 2, 2, 1, 1, 2, 3, 2, 2, 2, 1, 2, 3, 2, 2, 2, 2, 2, 2, 1, 2, 3, 2, 3, 2, 3, 3, 3, 1, 3, 2, 2, 2, 3, 3, 3, 1, 2, 2, 2, 1, 1, 1, 3, 3, 2, 2, 3, 2, 3, 3, 3, 1, 2, 2, 3, 2, 1, 3, 3, 1, 2, 1, 3, 3, 3, 2, 1, 3, 2, 2, 2, 1, 3, 1, 1, 2, 2, 1, 1, 1, 1, 3, 2, 1, 2, 3, 2, 3, 2, 2, 1, 1, 2, 2, 2, 1, 2, 1, 2, 1, 2, 3, 1, 3, 2, 2, 1, 2, 3, 3, 2, 1, 3, 3, 3, 3, 2, 2, 3, 3, 3, 2, 2, 2, 2, 1, 3, 3, 2, 2, 2, 2, 2, 1, 2, 1, 2, 1, 3, 2, 3, 2, 3, 3, 1, 2, 1, 1, 1, 3, 3, 1, 3, 1, 3, 1]\n"
     ]
    },
    {
     "data": {
      "text/plain": [
       "<AxesSubplot:>"
      ]
     },
     "execution_count": 498,
     "metadata": {},
     "output_type": "execute_result"
    },
    {
     "data": {
      "image/png": "[encoded data removed]",
      "text/plain": [
       "<Figure size 720x504 with 2 Axes>"
      ]
     },
     "metadata": {
      "needs_background": "light"
     },
     "output_type": "display_data"
    }
   ],
   "source": [
    "predictions = rnn_model.predict(X_test)\n",
    "y_pred = [p.argmax() for p in predictions]\n",
    "print(y_pred)\n",
    "y_true = [y.argmax() for y in y_test]\n",
    "print(y_true)\n",
    "conf_mat = confusion_matrix(y_true,y_pred)\n",
    "df_conf = pd.DataFrame(conf_mat,index=[i for i in 'Right Left Passive'.split()],\n",
    "                      columns = [i for i in 'Right Left Passive'.split()])\n",
    "plt.figure(figsize = (10,7))\n",
    "sn.heatmap(df_conf, annot=True,cmap='YlGnBu')"
   ]
  },
  {
   "cell_type": "code",
   "execution_count": 499,
   "metadata": {},
   "outputs": [
    {
     "name": "stderr",
     "output_type": "stream",
     "text": [
      "WARNING:absl:Found untraced functions such as lstm_cell_50_layer_call_and_return_conditional_losses, lstm_cell_50_layer_call_fn, lstm_cell_51_layer_call_and_return_conditional_losses, lstm_cell_51_layer_call_fn, lstm_cell_52_layer_call_and_return_conditional_losses while saving (showing 5 of 15). These functions will not be directly callable after loading.\n",
      "WARNING:absl:Found untraced functions such as lstm_cell_50_layer_call_and_return_conditional_losses, lstm_cell_50_layer_call_fn, lstm_cell_51_layer_call_and_return_conditional_losses, lstm_cell_51_layer_call_fn, lstm_cell_52_layer_call_and_return_conditional_losses while saving (showing 5 of 15). These functions will not be directly callable after loading.\n"
     ]
    },
    {
     "name": "stdout",
     "output_type": "stream",
     "text": [
      "INFO:tensorflow:Assets written to: C:/Users/nelso/Google Drive/School/MIT 2020-2021/6.s191/EEG_analysis_RNNandCNN\\assets\n"
     ]
    },
    {
     "name": "stderr",
     "output_type": "stream",
     "text": [
      "INFO:tensorflow:Assets written to: C:/Users/nelso/Google Drive/School/MIT 2020-2021/6.s191/EEG_analysis_RNNandCNN\\assets\n"
     ]
    }
   ],
   "source": [
    "rnn_model.save('C:/Users/nelso/Google Drive/School/MIT 2020-2021/6.s191/EEG_analysis_RNNandCNN')"
   ]
  },
  {
   "cell_type": "code",
   "execution_count": 398,
   "metadata": {},
   "outputs": [],
   "source": [
    "class eegCNN(tf.keras.Model):\n",
    "    def __init__(self,n_timesteps,n_features,n_outputs):\n",
    "        super().__init__()\n",
    "        self.n_timesteps = n_timesteps\n",
    "        self.n_features = n_features\n",
    "        self.n_outputs =  n_outputs\n",
    "        \n",
    "        self.conv1 = tf.keras.layers.Conv1D(filters=50,kernel_size=3,activation='relu',\n",
    "                                           input_shape=[self.n_timesteps,self.n_features])\n",
    "        self.pool1 = tf.keras.layers.MaxPooling1D(pool_size=3)\n",
    "        self.conv2 = tf.keras.layers.Conv1D(filters=100,kernel_size=3,activation='relu')\n",
    "        self.pool2 = tf.keras.layers.MaxPooling1D(pool_size=3)\n",
    "        self.conv3 = tf.keras.layers.Conv1D(filters=200,kernel_size=3,activation='relu')\n",
    "        self.pool3 = tf.keras.layers.MaxPooling1D(pool_size=3)\n",
    "        self.flat = tf.keras.layers.Flatten()\n",
    "        self.fc = tf.keras.layers.Dense(self.n_outputs, activation='softmax')\n",
    "        \n",
    "    def call(self,inputs):\n",
    "        e = self.conv1(inputs)\n",
    "        e = self.pool1(e)\n",
    "        e = self.conv2(e)\n",
    "        e = self.pool2(e)\n",
    "        e = self.conv3(e)\n",
    "        e = self.pool3(e)\n",
    "        e = self.flat(e)\n",
    "        return self.fc(e)"
   ]
  },
  {
   "cell_type": "code",
   "execution_count": 404,
   "metadata": {},
   "outputs": [],
   "source": [
    "cnn_model = eegCNN(X_train.shape[1],X_train.shape[2],y_train.shape[1])"
   ]
  },
  {
   "cell_type": "code",
   "execution_count": 405,
   "metadata": {},
   "outputs": [],
   "source": [
    "cnn_model.compile(loss = 'categorical_crossentropy', optimizer = 'adam', metrics = ['accuracy'])"
   ]
  },
  {
   "cell_type": "code",
   "execution_count": 406,
   "metadata": {},
   "outputs": [
    {
     "name": "stdout",
     "output_type": "stream",
     "text": [
      "Epoch 1/20\n",
      "15/15 [==============================] - 2s 26ms/step - loss: 2.8417 - accuracy: 0.3582\n",
      "Epoch 2/20\n",
      "15/15 [==============================] - 0s 22ms/step - loss: 0.7805 - accuracy: 0.6831\n",
      "Epoch 3/20\n",
      "15/15 [==============================] - 0s 22ms/step - loss: 0.3796 - accuracy: 0.8526\n",
      "Epoch 4/20\n",
      "15/15 [==============================] - 0s 22ms/step - loss: 0.2098 - accuracy: 0.9362\n",
      "Epoch 5/20\n",
      "15/15 [==============================] - 0s 21ms/step - loss: 0.1850 - accuracy: 0.9405\n",
      "Epoch 6/20\n",
      "15/15 [==============================] - 0s 21ms/step - loss: 0.1137 - accuracy: 0.9786\n",
      "Epoch 7/20\n",
      "15/15 [==============================] - 0s 21ms/step - loss: 0.0740 - accuracy: 0.9913\n",
      "Epoch 8/20\n",
      "15/15 [==============================] - 0s 21ms/step - loss: 0.0536 - accuracy: 0.9994\n",
      "Epoch 9/20\n",
      "15/15 [==============================] - 0s 23ms/step - loss: 0.0341 - accuracy: 0.9997\n",
      "Epoch 10/20\n",
      "15/15 [==============================] - 0s 21ms/step - loss: 0.0275 - accuracy: 1.0000\n",
      "Epoch 11/20\n",
      "15/15 [==============================] - 0s 21ms/step - loss: 0.0261 - accuracy: 1.0000\n",
      "Epoch 12/20\n",
      "15/15 [==============================] - 0s 21ms/step - loss: 0.0174 - accuracy: 1.0000\n",
      "Epoch 13/20\n",
      "15/15 [==============================] - 0s 22ms/step - loss: 0.0114 - accuracy: 1.0000\n",
      "Epoch 14/20\n",
      "15/15 [==============================] - 0s 21ms/step - loss: 0.0115 - accuracy: 1.0000\n",
      "Epoch 15/20\n",
      "15/15 [==============================] - 0s 22ms/step - loss: 0.0089 - accuracy: 1.0000\n",
      "Epoch 16/20\n",
      "15/15 [==============================] - 0s 21ms/step - loss: 0.0075 - accuracy: 1.0000\n",
      "Epoch 17/20\n",
      "15/15 [==============================] - 0s 22ms/step - loss: 0.0065 - accuracy: 1.0000\n",
      "Epoch 18/20\n",
      "15/15 [==============================] - 0s 21ms/step - loss: 0.0055 - accuracy: 1.0000\n",
      "Epoch 19/20\n",
      "15/15 [==============================] - 0s 21ms/step - loss: 0.0047 - accuracy: 1.0000\n",
      "Epoch 20/20\n",
      "15/15 [==============================] - 0s 21ms/step - loss: 0.0043 - accuracy: 1.0000\n"
     ]
    }
   ],
   "source": [
    "cnn_history = cnn_model.fit(X_train, y_train, epochs= 20, batch_size = 50)"
   ]
  },
  {
   "cell_type": "code",
   "execution_count": 407,
   "metadata": {
    "scrolled": false
   },
   "outputs": [
    {
     "data": {
      "text/plain": [
       "[<matplotlib.lines.Line2D at 0x12ade733070>]"
      ]
     },
     "execution_count": 407,
     "metadata": {},
     "output_type": "execute_result"
    },
    {
     "data": {
      "image/png": "[encoded data removed]",
      "text/plain": [
       "<Figure size 432x288 with 1 Axes>"
      ]
     },
     "metadata": {
      "needs_background": "light"
     },
     "output_type": "display_data"
    }
   ],
   "source": [
    "plt.plot(cnn_history.history['accuracy'])"
   ]
  },
  {
   "cell_type": "code",
   "execution_count": 408,
   "metadata": {
    "scrolled": true
   },
   "outputs": [
    {
     "data": {
      "text/plain": [
       "[<matplotlib.lines.Line2D at 0x12ade785850>]"
      ]
     },
     "execution_count": 408,
     "metadata": {},
     "output_type": "execute_result"
    },
    {
     "data": {
      "image/png": "[encoded data removed]",
      "text/plain": [
       "<Figure size 432x288 with 1 Axes>"
      ]
     },
     "metadata": {
      "needs_background": "light"
     },
     "output_type": "display_data"
    }
   ],
   "source": [
    "plt.plot(cnn_history.history['loss'])"
   ]
  },
  {
   "cell_type": "code",
   "execution_count": 409,
   "metadata": {},
   "outputs": [
    {
     "name": "stdout",
     "output_type": "stream",
     "text": [
      "6/6 [==============================] - 0s 8ms/step - loss: 0.3840 - accuracy: 0.9111\n"
     ]
    }
   ],
   "source": [
    "accuracy = cnn_model.evaluate(X_test, y_test)"
   ]
  },
  {
   "cell_type": "code",
   "execution_count": 433,
   "metadata": {},
   "outputs": [
    {
     "name": "stdout",
     "output_type": "stream",
     "text": [
      "[2, 2, 1, 1, 2, 2, 1, 3, 1, 1, 1, 2, 3, 1, 3, 1, 1, 2, 3, 1, 1, 3, 3, 2, 2, 2, 1, 1, 2, 3, 2, 2, 2, 1, 2, 3, 2, 2, 2, 2, 2, 2, 1, 2, 3, 2, 3, 2, 3, 3, 3, 1, 3, 2, 2, 2, 3, 3, 3, 1, 2, 2, 2, 1, 1, 1, 3, 3, 2, 2, 3, 2, 3, 3, 3, 1, 2, 2, 3, 2, 1, 3, 3, 1, 2, 1, 3, 2, 3, 2, 1, 3, 2, 2, 2, 2, 2, 1, 1, 1, 2, 1, 1, 1, 1, 3, 2, 1, 1, 3, 2, 3, 2, 2, 1, 1, 3, 2, 2, 1, 2, 1, 2, 1, 2, 3, 1, 3, 2, 2, 1, 2, 2, 3, 2, 1, 3, 3, 3, 3, 2, 2, 3, 3, 1, 2, 2, 3, 2, 1, 3, 3, 1, 2, 2, 2, 2, 1, 3, 1, 2, 1, 3, 2, 3, 2, 3, 3, 3, 2, 1, 1, 1, 3, 3, 3, 3, 1, 2, 1]\n",
      "[2, 2, 1, 1, 2, 3, 1, 3, 1, 1, 1, 2, 1, 1, 3, 1, 1, 2, 3, 1, 1, 3, 3, 2, 2, 2, 1, 1, 2, 3, 2, 2, 2, 1, 2, 3, 2, 2, 2, 2, 2, 2, 1, 2, 3, 2, 3, 2, 3, 3, 3, 1, 3, 2, 2, 2, 3, 3, 3, 1, 2, 2, 2, 1, 1, 1, 3, 3, 2, 2, 3, 2, 3, 3, 3, 1, 2, 2, 3, 2, 1, 3, 3, 1, 2, 1, 3, 3, 3, 2, 1, 3, 2, 2, 2, 1, 3, 1, 1, 2, 2, 1, 1, 1, 1, 3, 2, 1, 2, 3, 2, 3, 2, 2, 1, 1, 2, 2, 2, 1, 2, 1, 2, 1, 2, 3, 1, 3, 2, 2, 1, 2, 3, 3, 2, 1, 3, 3, 3, 3, 2, 2, 3, 3, 3, 2, 2, 2, 2, 1, 3, 3, 2, 2, 2, 2, 2, 1, 2, 1, 2, 1, 3, 2, 3, 2, 3, 3, 1, 2, 1, 1, 1, 3, 3, 1, 3, 1, 3, 1]\n"
     ]
    },
    {
     "data": {
      "text/plain": [
       "<AxesSubplot:>"
      ]
     },
     "execution_count": 433,
     "metadata": {},
     "output_type": "execute_result"
    },
    {
     "data": {
      "image/png": "[encoded data removed]",
      "text/plain": [
       "<Figure size 720x504 with 2 Axes>"
      ]
     },
     "metadata": {
      "needs_background": "light"
     },
     "output_type": "display_data"
    }
   ],
   "source": [
    "predictions = cnn_model.predict(X_test)\n",
    "y_pred = [p.argmax() for p in predictions]\n",
    "print(y_pred)\n",
    "y_true = [y.argmax() for y in y_test]\n",
    "print(y_true)\n",
    "conf_mat = confusion_matrix(y_true,y_pred)\n",
    "df_conf = pd.DataFrame(conf_mat,index=[i for i in 'Right Left Passive'.split()],\n",
    "                      columns = [i for i in 'Right Left Passive'.split()])\n",
    "plt.figure(figsize = (10,7))\n",
    "sn.heatmap(df_conf, annot=True,cmap='YlGnBu')"
   ]
  },
  {
   "cell_type": "code",
   "execution_count": 435,
   "metadata": {},
   "outputs": [
    {
     "name": "stdout",
     "output_type": "stream",
     "text": [
      "INFO:tensorflow:Assets written to: C:/Users/nelso/Google Drive/School/MIT 2020-2021/6.s191/EEG_analysis_RNNandCNN\\assets\n"
     ]
    }
   ],
   "source": [
    "#Saving model in Keras:\n",
    "cnn_model.save('C:/Users/nelso/Google Drive/School/MIT 2020-2021/6.s191/EEG_analysis_RNNandCNN')"
   ]
  },
  {
   "cell_type": "code",
   "execution_count": 506,
   "metadata": {},
   "outputs": [],
   "source": [
    "class eegConvRNN(tf.keras.Model):\n",
    "    def __init__(self,n_timesteps,n_features,n_outputs):\n",
    "        super().__init__(n_timesteps,n_features,n_outputs)\n",
    "        self.n_timesteps = n_timesteps\n",
    "        self.n_features = n_features\n",
    "        self.n_outputs =  n_outputs\n",
    "        \n",
    "        #RNN Network\n",
    "        self.rnn1 = tf.keras.layers.LSTM(20, return_sequences=True,input_shape= \n",
    "                                         (self.n_timesteps,self.n_features))\n",
    "        self.rnn2 = tf.keras.layers.LSTM(20,return_sequences=True)\n",
    "        self.rnn3 = tf.keras.layers.LSTM(20)\n",
    "        self.rnn_fc = tf.keras.layers.Dense(self.n_outputs, activation='softmax')\n",
    "        \n",
    "        #CNN Network\n",
    "        self.conv1 = tf.keras.layers.Conv1D(filters=50,kernel_size=3,activation='relu',\n",
    "                                           input_shape=[self.n_timesteps,self.n_features])\n",
    "        self.pool1 = tf.keras.layers.MaxPooling1D(pool_size=3)\n",
    "        self.conv2 = tf.keras.layers.Conv1D(filters=100,kernel_size=3,activation='relu')\n",
    "        self.pool2 = tf.keras.layers.MaxPooling1D(pool_size=3)\n",
    "        self.conv3 = tf.keras.layers.Conv1D(filters=200,kernel_size=3,activation='relu')\n",
    "        self.pool3 = tf.keras.layers.MaxPooling1D(pool_size=3)\n",
    "        self.flat = tf.keras.layers.Flatten()\n",
    "        self.cnn_fc = tf.keras.layers.Dense(self.n_outputs, activation='softmax')\n",
    "        \n",
    "        #Averaged Outuput Layer\n",
    "        self.avg = tf.keras.layers.Average()\n",
    "        self.fc_out = tf.keras.layers.Dense(self.n_outputs, activation='softmax')\n",
    "        \n",
    "    def call(self,inputs):\n",
    "        '''\n",
    "        inputs: np.array with shape [batch, timesteps, feature]\n",
    "        '''\n",
    "        #RNN operations\n",
    "        l = self.rnn1(inputs)\n",
    "        l = self.rnn2(l)\n",
    "        l = self.rnn3(l)\n",
    "        l = self.rnn_fc(l)\n",
    "        \n",
    "        #CNN operations\n",
    "        e = self.conv1(inputs)\n",
    "        e = self.pool1(e)\n",
    "        e = self.conv2(e)\n",
    "        e = self.pool2(e)\n",
    "        e = self.conv3(e)\n",
    "        e = self.pool3(e)\n",
    "        e = self.flat(e)\n",
    "        e = self.cnn_fc(e)\n",
    "        \n",
    "        #Averaged Output Layer\n",
    "        out = self.avg([l,e])\n",
    "        return self.fc_out(out)        "
   ]
  },
  {
   "cell_type": "code",
   "execution_count": 522,
   "metadata": {},
   "outputs": [],
   "source": [
    "c_rnnModel = eegConvRNN(X_train.shape[1],X_train.shape[2],y_train.shape[1])"
   ]
  },
  {
   "cell_type": "code",
   "execution_count": 523,
   "metadata": {},
   "outputs": [],
   "source": [
    "c_rnnModel.compile(loss = 'categorical_crossentropy', optimizer = 'adam', metrics = ['accuracy'])"
   ]
  },
  {
   "cell_type": "code",
   "execution_count": 524,
   "metadata": {},
   "outputs": [
    {
     "name": "stdout",
     "output_type": "stream",
     "text": [
      "Epoch 1/100\n",
      "15/15 [==============================] - 6s 104ms/step - loss: 1.2798 - accuracy: 0.2924\n",
      "Epoch 2/100\n",
      "15/15 [==============================] - 2s 106ms/step - loss: 1.2613 - accuracy: 0.3661\n",
      "Epoch 3/100\n",
      "15/15 [==============================] - 2s 106ms/step - loss: 1.2424 - accuracy: 0.4448\n",
      "Epoch 4/100\n",
      "15/15 [==============================] - 2s 106ms/step - loss: 1.2276 - accuracy: 0.4442\n",
      "Epoch 5/100\n",
      "15/15 [==============================] - 2s 106ms/step - loss: 1.1974 - accuracy: 0.5054\n",
      "Epoch 6/100\n",
      "15/15 [==============================] - 2s 105ms/step - loss: 1.1644 - accuracy: 0.5533\n",
      "Epoch 7/100\n",
      "15/15 [==============================] - 2s 106ms/step - loss: 1.1410 - accuracy: 0.5779\n",
      "Epoch 8/100\n",
      "15/15 [==============================] - 2s 107ms/step - loss: 1.1274 - accuracy: 0.5752\n",
      "Epoch 9/100\n",
      "15/15 [==============================] - 2s 106ms/step - loss: 1.1101 - accuracy: 0.6073\n",
      "Epoch 10/100\n",
      "15/15 [==============================] - 2s 106ms/step - loss: 1.1027 - accuracy: 0.6195\n",
      "Epoch 11/100\n",
      "15/15 [==============================] - 2s 107ms/step - loss: 1.0735 - accuracy: 0.6866\n",
      "Epoch 12/100\n",
      "15/15 [==============================] - 2s 112ms/step - loss: 1.0687 - accuracy: 0.6972\n",
      "Epoch 13/100\n",
      "15/15 [==============================] - 2s 108ms/step - loss: 1.0598 - accuracy: 0.7071\n",
      "Epoch 14/100\n",
      "15/15 [==============================] - 2s 107ms/step - loss: 1.0532 - accuracy: 0.7039\n",
      "Epoch 15/100\n",
      "15/15 [==============================] - 2s 108ms/step - loss: 1.0444 - accuracy: 0.7223\n",
      "Epoch 16/100\n",
      "15/15 [==============================] - 2s 107ms/step - loss: 1.0331 - accuracy: 0.7572\n",
      "Epoch 17/100\n",
      "15/15 [==============================] - 2s 107ms/step - loss: 1.0160 - accuracy: 0.7927\n",
      "Epoch 18/100\n",
      "15/15 [==============================] - 2s 107ms/step - loss: 1.0049 - accuracy: 0.7788\n",
      "Epoch 19/100\n",
      "15/15 [==============================] - 2s 108ms/step - loss: 1.0000 - accuracy: 0.7787\n",
      "Epoch 20/100\n",
      "15/15 [==============================] - 2s 106ms/step - loss: 0.9880 - accuracy: 0.7887\n",
      "Epoch 21/100\n",
      "15/15 [==============================] - 2s 107ms/step - loss: 0.9833 - accuracy: 0.7977\n",
      "Epoch 22/100\n",
      "15/15 [==============================] - 2s 107ms/step - loss: 0.9781 - accuracy: 0.7756\n",
      "Epoch 23/100\n",
      "15/15 [==============================] - 2s 107ms/step - loss: 0.9645 - accuracy: 0.8029\n",
      "Epoch 24/100\n",
      "15/15 [==============================] - 2s 107ms/step - loss: 0.9568 - accuracy: 0.8070\n",
      "Epoch 25/100\n",
      "15/15 [==============================] - 2s 106ms/step - loss: 0.9508 - accuracy: 0.8022\n",
      "Epoch 26/100\n",
      "15/15 [==============================] - 2s 108ms/step - loss: 0.9438 - accuracy: 0.7974\n",
      "Epoch 27/100\n",
      "15/15 [==============================] - 2s 107ms/step - loss: 0.9113 - accuracy: 0.8461\n",
      "Epoch 28/100\n",
      "15/15 [==============================] - 2s 107ms/step - loss: 0.8951 - accuracy: 0.8665\n",
      "Epoch 29/100\n",
      "15/15 [==============================] - 2s 107ms/step - loss: 0.8739 - accuracy: 0.8861\n",
      "Epoch 30/100\n",
      "15/15 [==============================] - 2s 107ms/step - loss: 0.8645 - accuracy: 0.8969\n",
      "Epoch 31/100\n",
      "15/15 [==============================] - 2s 106ms/step - loss: 0.8451 - accuracy: 0.9129\n",
      "Epoch 32/100\n",
      "15/15 [==============================] - 2s 106ms/step - loss: 0.8452 - accuracy: 0.8891\n",
      "Epoch 33/100\n",
      "15/15 [==============================] - 2s 107ms/step - loss: 0.8620 - accuracy: 0.8639\n",
      "Epoch 34/100\n",
      "15/15 [==============================] - 2s 108ms/step - loss: 0.8321 - accuracy: 0.8903\n",
      "Epoch 35/100\n",
      "15/15 [==============================] - 2s 107ms/step - loss: 0.8151 - accuracy: 0.9045\n",
      "Epoch 36/100\n",
      "15/15 [==============================] - 2s 107ms/step - loss: 0.7913 - accuracy: 0.9254\n",
      "Epoch 37/100\n",
      "15/15 [==============================] - 2s 107ms/step - loss: 0.7781 - accuracy: 0.9356\n",
      "Epoch 38/100\n",
      "15/15 [==============================] - 2s 106ms/step - loss: 0.7765 - accuracy: 0.9170\n",
      "Epoch 39/100\n",
      "15/15 [==============================] - 2s 108ms/step - loss: 0.7788 - accuracy: 0.9082\n",
      "Epoch 40/100\n",
      "15/15 [==============================] - 2s 107ms/step - loss: 0.7601 - accuracy: 0.9257\n",
      "Epoch 41/100\n",
      "15/15 [==============================] - 2s 107ms/step - loss: 0.7577 - accuracy: 0.9198\n",
      "Epoch 42/100\n",
      "15/15 [==============================] - 2s 108ms/step - loss: 0.7909 - accuracy: 0.8718\n",
      "Epoch 43/100\n",
      "15/15 [==============================] - 2s 109ms/step - loss: 0.7746 - accuracy: 0.8875\n",
      "Epoch 44/100\n",
      "15/15 [==============================] - 2s 107ms/step - loss: 0.7486 - accuracy: 0.9090\n",
      "Epoch 45/100\n",
      "15/15 [==============================] - 2s 107ms/step - loss: 0.7439 - accuracy: 0.9073\n",
      "Epoch 46/100\n",
      "15/15 [==============================] - 2s 108ms/step - loss: 0.7569 - accuracy: 0.8854\n",
      "Epoch 47/100\n",
      "15/15 [==============================] - 2s 106ms/step - loss: 0.7306 - accuracy: 0.9139\n",
      "Epoch 48/100\n",
      "15/15 [==============================] - 2s 107ms/step - loss: 0.7214 - accuracy: 0.9128\n",
      "Epoch 49/100\n",
      "15/15 [==============================] - 2s 106ms/step - loss: 0.6997 - accuracy: 0.9244\n",
      "Epoch 50/100\n",
      "15/15 [==============================] - 2s 108ms/step - loss: 0.6865 - accuracy: 0.9386\n",
      "Epoch 51/100\n",
      "15/15 [==============================] - 2s 108ms/step - loss: 0.6850 - accuracy: 0.9315\n",
      "Epoch 52/100\n",
      "15/15 [==============================] - 2s 107ms/step - loss: 0.6745 - accuracy: 0.9386\n",
      "Epoch 53/100\n",
      "15/15 [==============================] - 2s 108ms/step - loss: 0.6659 - accuracy: 0.9395\n",
      "Epoch 54/100\n",
      "15/15 [==============================] - 2s 110ms/step - loss: 0.7075 - accuracy: 0.8934\n",
      "Epoch 55/100\n",
      "15/15 [==============================] - 2s 109ms/step - loss: 0.7005 - accuracy: 0.8968\n",
      "Epoch 56/100\n",
      "15/15 [==============================] - 2s 107ms/step - loss: 0.6751 - accuracy: 0.9141\n",
      "Epoch 57/100\n",
      "15/15 [==============================] - 2s 107ms/step - loss: 0.6610 - accuracy: 0.9223\n",
      "Epoch 58/100\n",
      "15/15 [==============================] - 2s 107ms/step - loss: 0.6551 - accuracy: 0.9305\n",
      "Epoch 59/100\n",
      "15/15 [==============================] - 2s 107ms/step - loss: 0.6459 - accuracy: 0.9300\n",
      "Epoch 60/100\n",
      "15/15 [==============================] - 2s 107ms/step - loss: 0.6466 - accuracy: 0.9280\n",
      "Epoch 61/100\n",
      "15/15 [==============================] - 2s 107ms/step - loss: 0.6312 - accuracy: 0.9285\n",
      "Epoch 62/100\n",
      "15/15 [==============================] - 2s 106ms/step - loss: 0.6710 - accuracy: 0.8934\n",
      "Epoch 63/100\n",
      "15/15 [==============================] - 2s 106ms/step - loss: 0.6520 - accuracy: 0.9054\n",
      "Epoch 64/100\n",
      "15/15 [==============================] - 2s 107ms/step - loss: 0.6250 - accuracy: 0.9259\n",
      "Epoch 65/100\n",
      "15/15 [==============================] - 2s 106ms/step - loss: 0.6111 - accuracy: 0.9348\n",
      "Epoch 66/100\n",
      "15/15 [==============================] - 2s 107ms/step - loss: 0.5952 - accuracy: 0.9469\n",
      "Epoch 67/100\n",
      "15/15 [==============================] - 2s 107ms/step - loss: 0.5974 - accuracy: 0.9380\n",
      "Epoch 68/100\n",
      "15/15 [==============================] - 2s 106ms/step - loss: 0.6065 - accuracy: 0.9270\n",
      "Epoch 69/100\n",
      "15/15 [==============================] - 2s 107ms/step - loss: 0.5857 - accuracy: 0.9422\n",
      "Epoch 70/100\n",
      "15/15 [==============================] - 2s 106ms/step - loss: 0.6003 - accuracy: 0.9229\n",
      "Epoch 71/100\n",
      "15/15 [==============================] - 2s 107ms/step - loss: 0.7202 - accuracy: 0.8201\n",
      "Epoch 72/100\n",
      "15/15 [==============================] - 2s 107ms/step - loss: 0.6634 - accuracy: 0.8619\n",
      "Epoch 73/100\n",
      "15/15 [==============================] - 2s 106ms/step - loss: 0.6238 - accuracy: 0.8941\n",
      "Epoch 74/100\n",
      "15/15 [==============================] - 2s 107ms/step - loss: 0.6097 - accuracy: 0.9043\n",
      "Epoch 75/100\n",
      "15/15 [==============================] - 2s 107ms/step - loss: 0.6046 - accuracy: 0.9106\n",
      "Epoch 76/100\n",
      "15/15 [==============================] - 2s 106ms/step - loss: 0.5885 - accuracy: 0.9155\n",
      "Epoch 77/100\n",
      "15/15 [==============================] - 2s 107ms/step - loss: 0.5793 - accuracy: 0.9240\n",
      "Epoch 78/100\n",
      "15/15 [==============================] - 2s 109ms/step - loss: 0.6061 - accuracy: 0.8950\n",
      "Epoch 79/100\n",
      "15/15 [==============================] - 2s 110ms/step - loss: 0.5622 - accuracy: 0.9329\n",
      "Epoch 80/100\n",
      "15/15 [==============================] - 2s 107ms/step - loss: 0.5457 - accuracy: 0.9421\n",
      "Epoch 81/100\n"
     ]
    },
    {
     "name": "stdout",
     "output_type": "stream",
     "text": [
      "15/15 [==============================] - 2s 107ms/step - loss: 0.5665 - accuracy: 0.9186\n",
      "Epoch 82/100\n",
      "15/15 [==============================] - 2s 107ms/step - loss: 0.5717 - accuracy: 0.9122\n",
      "Epoch 83/100\n",
      "15/15 [==============================] - 2s 107ms/step - loss: 0.5328 - accuracy: 0.9448\n",
      "Epoch 84/100\n",
      "15/15 [==============================] - 2s 108ms/step - loss: 0.5382 - accuracy: 0.9371\n",
      "Epoch 85/100\n",
      "15/15 [==============================] - 2s 107ms/step - loss: 0.5224 - accuracy: 0.9466\n",
      "Epoch 86/100\n",
      "15/15 [==============================] - 2s 108ms/step - loss: 0.5163 - accuracy: 0.9483\n",
      "Epoch 87/100\n",
      "15/15 [==============================] - 2s 108ms/step - loss: 0.5094 - accuracy: 0.9499\n",
      "Epoch 88/100\n",
      "15/15 [==============================] - 2s 107ms/step - loss: 0.5208 - accuracy: 0.9385\n",
      "Epoch 89/100\n",
      "15/15 [==============================] - 2s 109ms/step - loss: 0.5167 - accuracy: 0.9402\n",
      "Epoch 90/100\n",
      "15/15 [==============================] - 2s 108ms/step - loss: 0.5107 - accuracy: 0.9428\n",
      "Epoch 91/100\n",
      "15/15 [==============================] - 2s 111ms/step - loss: 0.4895 - accuracy: 0.9516\n",
      "Epoch 92/100\n",
      "15/15 [==============================] - 2s 109ms/step - loss: 0.5028 - accuracy: 0.9412\n",
      "Epoch 93/100\n",
      "15/15 [==============================] - 2s 107ms/step - loss: 0.4955 - accuracy: 0.9459\n",
      "Epoch 94/100\n",
      "15/15 [==============================] - 2s 107ms/step - loss: 0.4633 - accuracy: 0.9654\n",
      "Epoch 95/100\n",
      "15/15 [==============================] - 2s 109ms/step - loss: 0.4729 - accuracy: 0.9567\n",
      "Epoch 96/100\n",
      "15/15 [==============================] - 2s 107ms/step - loss: 0.4639 - accuracy: 0.9592\n",
      "Epoch 97/100\n",
      "15/15 [==============================] - 2s 108ms/step - loss: 0.4765 - accuracy: 0.9479\n",
      "Epoch 98/100\n",
      "15/15 [==============================] - 2s 108ms/step - loss: 0.4599 - accuracy: 0.9564\n",
      "Epoch 99/100\n",
      "15/15 [==============================] - 2s 107ms/step - loss: 0.4535 - accuracy: 0.9606\n",
      "Epoch 100/100\n",
      "15/15 [==============================] - 2s 108ms/step - loss: 0.4585 - accuracy: 0.9538\n"
     ]
    }
   ],
   "source": [
    "crnn_history = c_rnnModel.fit(X_train, y_train, epochs= 100, batch_size = 50)"
   ]
  },
  {
   "cell_type": "code",
   "execution_count": 525,
   "metadata": {},
   "outputs": [
    {
     "data": {
      "text/plain": [
       "[<matplotlib.lines.Line2D at 0x12ae59b37c0>]"
      ]
     },
     "execution_count": 525,
     "metadata": {},
     "output_type": "execute_result"
    },
    {
     "data": {
      "image/png": "[encoded data removed]",
      "text/plain": [
       "<Figure size 432x288 with 1 Axes>"
      ]
     },
     "metadata": {
      "needs_background": "light"
     },
     "output_type": "display_data"
    }
   ],
   "source": [
    "plt.plot(crnn_history.history['loss'])"
   ]
  },
  {
   "cell_type": "code",
   "execution_count": 526,
   "metadata": {},
   "outputs": [
    {
     "data": {
      "text/plain": [
       "[<matplotlib.lines.Line2D at 0x12adb4ffd30>]"
      ]
     },
     "execution_count": 526,
     "metadata": {},
     "output_type": "execute_result"
    },
    {
     "data": {
      "image/png": "[encoded data removed]",
      "text/plain": [
       "<Figure size 432x288 with 1 Axes>"
      ]
     },
     "metadata": {
      "needs_background": "light"
     },
     "output_type": "display_data"
    }
   ],
   "source": [
    "plt.plot(crnn_history.history['accuracy'])"
   ]
  },
  {
   "cell_type": "code",
   "execution_count": 527,
   "metadata": {
    "scrolled": true
   },
   "outputs": [
    {
     "name": "stdout",
     "output_type": "stream",
     "text": [
      "6/6 [==============================] - 1s 29ms/step - loss: 0.6494 - accuracy: 0.8111\n"
     ]
    }
   ],
   "source": [
    "accuracy = c_rnnModel.evaluate(X_test, y_test)"
   ]
  },
  {
   "cell_type": "code",
   "execution_count": 529,
   "metadata": {},
   "outputs": [
    {
     "name": "stdout",
     "output_type": "stream",
     "text": [
      "[3, 2, 3, 1, 2, 1, 1, 3, 1, 1, 1, 2, 2, 1, 3, 1, 3, 2, 3, 1, 3, 3, 3, 2, 2, 1, 1, 1, 2, 3, 2, 2, 2, 2, 2, 3, 2, 3, 2, 2, 2, 2, 1, 2, 3, 2, 3, 2, 3, 3, 3, 1, 3, 1, 2, 2, 1, 3, 3, 1, 2, 2, 2, 1, 2, 1, 3, 3, 2, 1, 1, 2, 3, 3, 3, 1, 2, 2, 3, 2, 1, 3, 3, 1, 2, 1, 3, 2, 1, 2, 3, 3, 2, 3, 3, 1, 3, 1, 3, 2, 2, 1, 1, 1, 3, 3, 2, 1, 1, 3, 2, 3, 2, 2, 1, 1, 3, 2, 2, 1, 2, 1, 2, 1, 2, 3, 1, 3, 2, 2, 1, 2, 3, 3, 2, 1, 2, 3, 3, 3, 3, 2, 3, 3, 3, 2, 2, 3, 2, 1, 3, 3, 1, 2, 2, 1, 2, 1, 1, 1, 2, 1, 3, 2, 3, 2, 3, 3, 3, 2, 3, 1, 3, 3, 3, 3, 3, 3, 3, 1]\n",
      "[2, 2, 1, 1, 2, 3, 1, 3, 1, 1, 1, 2, 1, 1, 3, 1, 1, 2, 3, 1, 1, 3, 3, 2, 2, 2, 1, 1, 2, 3, 2, 2, 2, 1, 2, 3, 2, 2, 2, 2, 2, 2, 1, 2, 3, 2, 3, 2, 3, 3, 3, 1, 3, 2, 2, 2, 3, 3, 3, 1, 2, 2, 2, 1, 1, 1, 3, 3, 2, 2, 3, 2, 3, 3, 3, 1, 2, 2, 3, 2, 1, 3, 3, 1, 2, 1, 3, 3, 3, 2, 1, 3, 2, 2, 2, 1, 3, 1, 1, 2, 2, 1, 1, 1, 1, 3, 2, 1, 2, 3, 2, 3, 2, 2, 1, 1, 2, 2, 2, 1, 2, 1, 2, 1, 2, 3, 1, 3, 2, 2, 1, 2, 3, 3, 2, 1, 3, 3, 3, 3, 2, 2, 3, 3, 3, 2, 2, 2, 2, 1, 3, 3, 2, 2, 2, 2, 2, 1, 2, 1, 2, 1, 3, 2, 3, 2, 3, 3, 1, 2, 1, 1, 1, 3, 3, 1, 3, 1, 3, 1]\n"
     ]
    },
    {
     "data": {
      "text/plain": [
       "<AxesSubplot:>"
      ]
     },
     "execution_count": 529,
     "metadata": {},
     "output_type": "execute_result"
    },
    {
     "data": {
      "image/png": "[encoded data removed]",
      "text/plain": [
       "<Figure size 720x504 with 2 Axes>"
      ]
     },
     "metadata": {
      "needs_background": "light"
     },
     "output_type": "display_data"
    }
   ],
   "source": [
    "predictions = c_rnnModel.predict(X_test)\n",
    "y_pred = [p.argmax() for p in predictions]\n",
    "print(y_pred)\n",
    "y_true = [y.argmax() for y in y_test]\n",
    "print(y_true)\n",
    "conf_mat = confusion_matrix(y_true,y_pred)\n",
    "df_conf = pd.DataFrame(conf_mat,index=[i for i in 'Right Left Passive'.split()],\n",
    "                      columns = [i for i in 'Right Left Passive'.split()])\n",
    "plt.figure(figsize = (10,7))\n",
    "sn.heatmap(df_conf, annot=True,cmap='YlGnBu')"
   ]
  },
  {
   "cell_type": "code",
   "execution_count": 530,
   "metadata": {},
   "outputs": [
    {
     "name": "stderr",
     "output_type": "stream",
     "text": [
      "WARNING:absl:Found untraced functions such as lstm_cell_65_layer_call_and_return_conditional_losses, lstm_cell_65_layer_call_fn, lstm_cell_66_layer_call_and_return_conditional_losses, lstm_cell_66_layer_call_fn, lstm_cell_67_layer_call_and_return_conditional_losses while saving (showing 5 of 15). These functions will not be directly callable after loading.\n",
      "WARNING:absl:Found untraced functions such as lstm_cell_65_layer_call_and_return_conditional_losses, lstm_cell_65_layer_call_fn, lstm_cell_66_layer_call_and_return_conditional_losses, lstm_cell_66_layer_call_fn, lstm_cell_67_layer_call_and_return_conditional_losses while saving (showing 5 of 15). These functions will not be directly callable after loading.\n"
     ]
    },
    {
     "name": "stdout",
     "output_type": "stream",
     "text": [
      "INFO:tensorflow:Assets written to: C:/Users/nelso/Google Drive/School/MIT 2020-2021/6.s191/EEG_analysis_RNNandCNN\\assets\n"
     ]
    },
    {
     "name": "stderr",
     "output_type": "stream",
     "text": [
      "INFO:tensorflow:Assets written to: C:/Users/nelso/Google Drive/School/MIT 2020-2021/6.s191/EEG_analysis_RNNandCNN\\assets\n"
     ]
    }
   ],
   "source": [
    "c_rnnModel.save('C:/Users/nelso/Google Drive/School/MIT 2020-2021/6.s191/EEG_analysis_RNNandCNN')"
   ]
  }
 ],
 "metadata": {
  "kernelspec": {
   "display_name": "Python 3",
   "language": "python",
   "name": "python3"
  },
  "language_info": {
   "codemirror_mode": {
    "name": "ipython",
    "version": 3
   },
   "file_extension": ".py",
   "mimetype": "text/x-python",
   "name": "python",
   "nbconvert_exporter": "python",
   "pygments_lexer": "ipython3",
   "version": "3.8.5"
  }
 },
 "nbformat": 4,
 "nbformat_minor": 4
}
