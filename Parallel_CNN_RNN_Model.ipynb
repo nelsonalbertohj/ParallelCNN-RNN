{
 "cells": [
  {
   "cell_type": "markdown",
   "metadata": {},
   "source": [
    "### Important Details about EEG data:\n",
    "Sampple Frequency = 200 Hz\n",
    "\n",
    "Number of Samples = 621892\n",
    "\n",
    "Duration of trial = 0.85 seconds after onset, which is indicated by firs non-zero marker value from marker data."
   ]
  },
  {
   "cell_type": "markdown",
   "metadata": {},
   "source": [
    "### Signal Extraction and Feature Engineering"
   ]
  },
  {
   "cell_type": "code",
   "execution_count": 15,
   "metadata": {},
   "outputs": [],
   "source": [
    "import scipy.io\n",
    "import numpy as np\n",
    "import matplotlib.pyplot as plt\n",
    "import mne\n",
    "import tensorflow as tf\n",
    "\n",
    "from sklearn.metrics import confusion_matrix, plot_confusion_matrix\n",
    "import pandas as pd\n",
    "import seaborn as sn\n",
    "from sklearn.model_selection import train_test_split\n",
    "sn.set_theme()"
   ]
  },
  {
   "cell_type": "code",
   "execution_count": 24,
   "metadata": {
    "scrolled": true
   },
   "outputs": [],
   "source": [
    "def mat_loader(file,var_list=['o'],def_inputs = False):\n",
    "    '''\n",
    "    file: string, path to file.\n",
    "    var: list of string, name of element(s) in .mat \n",
    "    file to be extracted.\n",
    "    return: dict holding one or more elements from specified var\n",
    "    \n",
    "    required libraries: scipy.io\n",
    "    '''\n",
    "    print('.mat file has the following elements',scipy.io.whosmat(file))\n",
    "    mat_to_dict = {}\n",
    "    for var in var_list:\n",
    "        if def_inputs:\n",
    "            print('Choose from first element from tuples in this list', \n",
    "                  scipy.io.whosmat(file))\n",
    "            var = input('Input string label from above')\n",
    "        mat_load = scipy.io.loadmat('CLA-SubjectJ-170508-3St-LRHand-Inter')\n",
    "        keys = [e for e in dict(mat_load[var].dtype.fields).keys()]\n",
    "        print('Structure had these keys:', keys)\n",
    "        for i in range(len(keys)):\n",
    "            mat_to_dict[keys[i]] = mat_load[var][0][0][i]\n",
    "    return mat_to_dict"
   ]
  },
  {
   "cell_type": "code",
   "execution_count": 25,
   "metadata": {
    "scrolled": true
   },
   "outputs": [
    {
     "name": "stdout",
     "output_type": "stream",
     "text": [
      ".mat file has the following elements [('ans', (1, 1), 'double'), ('o', (1, 1), 'struct'), ('x', (533, 1), 'double')]\n",
      "Structure had these keys: ['id', 'tag', 'nS', 'sampFreq', 'marker', 'marker_old', 'data', 'chnames', 'binsuV']\n"
     ]
    }
   ],
   "source": [
    "mat_dict = mat_loader('CLA-SubjectJ-170508-3St-LRHand-Inter',['o'])"
   ]
  },
  {
   "cell_type": "code",
   "execution_count": 26,
   "metadata": {},
   "outputs": [],
   "source": [
    "def eeg_data_loader(mat_loader,eeg_data='data',marker='marker',chan_names='chnames'):\n",
    "    '''\n",
    "    Takes in mat_loader, a dictionary with keys that map to eeg data information,\n",
    "    and extracts data from the given eeg_data, marker, chan_names keys:\n",
    "    \n",
    "    mat_loader: dict, mapping labels to its respective eeg data\n",
    "    eeg_data: string, dictionary key\n",
    "    marker: string, dictionary key\n",
    "    chan_names: string, dictionary key\n",
    "    \n",
    "    return: tuple with 3 elements, (raw_eeg_unfiltered, marker, chan_names)\n",
    "    '''\n",
    "    #Extract eeg data from .mat files\n",
    "    raw_eeg_unfiltered = mat_loader[eeg_data].transpose()[:21,:]\n",
    "    #^only takes the first 21 channels which are the actual EEG channels\n",
    "    marker = mat_loader[marker]\n",
    "    chan_names = mat_loader[chan_names]\n",
    "\n",
    "    #format chan_names as a list to be used in that format for RawEEG function\n",
    "    chan_names = [st[0][0] for st in chan_names]\n",
    "    chan_names.append('STI 1')\n",
    "    \n",
    "    return (raw_eeg_unfiltered,marker,chan_names)"
   ]
  },
  {
   "cell_type": "code",
   "execution_count": 27,
   "metadata": {
    "scrolled": true
   },
   "outputs": [],
   "source": [
    "(raw_eeg_unfiltered,marker,chan_names) = eeg_data_loader(mat_dict)"
   ]
  },
  {
   "cell_type": "code",
   "execution_count": 28,
   "metadata": {},
   "outputs": [],
   "source": [
    "def preprocessing(raw_eeg_unfiltered,marker,samp_freq=200,l_fq=1,h_fq=40):\n",
    "    #Bandpass filter eeg data from 1 Hz to 40 Hz\n",
    "    raw_eeg = mne.filter.filter_data(raw_eeg_unfiltered, samp_freq, l_fq, h_fq)\n",
    "    \n",
    "    #Make marker last EEG label\n",
    "    raw_eeg = np.concatenate((raw_eeg, marker.flatten().reshape(1,-1)),axis=0)\n",
    "    \n",
    "    #Generate RawArray object to facilitate EEG analysis with mne\n",
    "    eeg_raw = mne.io.RawArray(raw_eeg,info= mne.create_info(chan_names,samp_freq))\n",
    "    print(eeg_raw.info)\n",
    "    \n",
    "    #Detect events in the data, containing \n",
    "    eeg_events = mne.find_events(eeg_raw,stim_channel='STI 1')\n",
    "    #^ rows= n_events columns = (time,nothing,event_ID)\n",
    "    \n",
    "    #Extract epochs from raw EEG\n",
    "    eeg_epochs = mne.Epochs(eeg_raw,eeg_events,\n",
    "                        event_id=[1,2,3],\n",
    "                        tmin=-0.2,tmax=0.8)\n",
    "    \n",
    "    return (eeg_raw, eeg_events, eeg_epochs)"
   ]
  },
  {
   "cell_type": "code",
   "execution_count": 29,
   "metadata": {},
   "outputs": [
    {
     "name": "stdout",
     "output_type": "stream",
     "text": [
      "Setting up band-pass filter from 1 - 40 Hz\n",
      "\n",
      "FIR filter parameters\n",
      "---------------------\n",
      "Designing a one-pass, zero-phase, non-causal bandpass filter:\n",
      "- Windowed time-domain design (firwin) method\n",
      "- Hamming window with 0.0194 passband ripple and 53 dB stopband attenuation\n",
      "- Lower passband edge: 1.00\n",
      "- Lower transition bandwidth: 1.00 Hz (-6 dB cutoff frequency: 0.50 Hz)\n",
      "- Upper passband edge: 40.00 Hz\n",
      "- Upper transition bandwidth: 10.00 Hz (-6 dB cutoff frequency: 45.00 Hz)\n",
      "- Filter length: 661 samples (3.305 sec)\n",
      "\n",
      "Creating RawArray with float64 data, n_channels=22, n_times=621892\n",
      "    Range : 0 ... 621891 =      0.000 ...  3109.455 secs\n",
      "Ready.\n",
      "<Info | 7 non-empty values\n",
      " bads: []\n",
      " ch_names: Fp1, Fp2, F3, F4, C3, C4, P3, P4, O1, O2, A1, A2, F7, F8, T3, ...\n",
      " chs: 22 MISC\n",
      " custom_ref_applied: False\n",
      " highpass: 0.0 Hz\n",
      " lowpass: 100.0 Hz\n",
      " meas_date: unspecified\n",
      " nchan: 22\n",
      " projs: []\n",
      " sfreq: 200.0 Hz\n",
      ">\n",
      "900 events found\n",
      "Event IDs: [1 2 3]\n",
      "Not setting metadata\n",
      "Not setting metadata\n",
      "900 matching events found\n",
      "Setting baseline interval to [-0.2, 0.0] sec\n",
      "Applying baseline correction (mode: mean)\n",
      "0 projection items activated\n"
     ]
    }
   ],
   "source": [
    "(eeg_raw, eeg_events, eeg_epochs) = preprocessing(raw_eeg_unfiltered,marker)"
   ]
  },
  {
   "cell_type": "code",
   "execution_count": 30,
   "metadata": {},
   "outputs": [
    {
     "name": "stdout",
     "output_type": "stream",
     "text": [
      "Loading data for 900 events and 201 original time points ...\n",
      "0 bad epochs dropped\n",
      "Loading data for 900 events and 201 original time points ...\n",
      "(180, 201, 21)\n",
      "(180, 4)\n"
     ]
    }
   ],
   "source": [
    "#Obtain epochs and labels for each epoch\n",
    "np_epochs = eeg_epochs.get_data(picks=eeg_raw.info.ch_names[:-1])\n",
    "\n",
    "df_epochs = eeg_epochs.to_data_frame(picks='all')\n",
    "labels = []\n",
    "for i in df_epochs['epoch'].unique():\n",
    "    labels.append(np.array(df_epochs['condition'][df_epochs['epoch'] == i])[0])\n",
    "\n",
    "X_train, X_test, y_train, y_test = train_test_split(np_epochs, labels, test_size=0.20, random_state=42)\n",
    "y_true = y_test\n",
    "\n",
    "#Reshape X as (epochs,time steps,features) from original (epochs,features,time_setp)\n",
    "X_train = np.transpose(X_train, (0,2,1))\n",
    "X_test = np.transpose(X_test, (0,2,1))\n",
    "\n",
    "#One-hot-encode train labels\n",
    "y_train = tf.keras.utils.to_categorical(y_train) \n",
    "y_test = tf.keras.utils.to_categorical(y_test)\n",
    "\n",
    "print(X_test.shape)\n",
    "print(y_test.shape)"
   ]
  },
  {
   "cell_type": "code",
   "execution_count": 31,
   "metadata": {},
   "outputs": [],
   "source": [
    "class eegRNN(tf.keras.Model):\n",
    "    def __init__(self,n_timesteps,n_features,n_outputs):\n",
    "        super().__init__()\n",
    "        self.n_timesteps = n_timesteps\n",
    "        self.n_features = n_features\n",
    "        self.n_outputs =  n_outputs\n",
    "        \n",
    "        self.rnn1 = tf.keras.layers.LSTM(20, return_sequences=True,input_shape= \n",
    "                                         (self.n_timesteps,self.n_features))\n",
    "        self.rnn2 = tf.keras.layers.LSTM(20,return_sequences=True)\n",
    "        self.rnn3 = tf.keras.layers.LSTM(20)\n",
    "        self.rnn_fc = tf.keras.layers.Dense(self.n_outputs, activation='softmax')\n",
    "        \n",
    "    def call(self,inputs):\n",
    "        '''\n",
    "        inputs: np.array with shape [batch, timesteps, feature]\n",
    "        '''\n",
    "        l = self.rnn1(inputs)\n",
    "        l = self.rnn2(l)\n",
    "        l = self.rnn3(l)\n",
    "        l = self.rnn_fc(l)\n",
    "        return l    "
   ]
  },
  {
   "cell_type": "code",
   "execution_count": 32,
   "metadata": {},
   "outputs": [
    {
     "name": "stdout",
     "output_type": "stream",
     "text": [
      "Epoch 1/30\n",
      "15/15 [==============================] - 7s 116ms/step - loss: 1.3225 - accuracy: 0.3403\n",
      "Epoch 2/30\n",
      "15/15 [==============================] - 2s 111ms/step - loss: 1.1926 - accuracy: 0.4083\n",
      "Epoch 3/30\n",
      "15/15 [==============================] - 2s 110ms/step - loss: 1.0986 - accuracy: 0.4500\n",
      "Epoch 4/30\n",
      "15/15 [==============================] - 2s 110ms/step - loss: 1.0149 - accuracy: 0.5208\n",
      "Epoch 5/30\n",
      "15/15 [==============================] - 2s 111ms/step - loss: 0.8789 - accuracy: 0.6222\n",
      "Epoch 6/30\n",
      "15/15 [==============================] - 2s 110ms/step - loss: 0.7419 - accuracy: 0.7111\n",
      "Epoch 7/30\n",
      "15/15 [==============================] - 2s 112ms/step - loss: 0.6803 - accuracy: 0.7333\n",
      "Epoch 8/30\n",
      "15/15 [==============================] - 2s 109ms/step - loss: 0.5728 - accuracy: 0.7861\n",
      "Epoch 9/30\n",
      "15/15 [==============================] - 2s 115ms/step - loss: 0.5022 - accuracy: 0.8222\n",
      "Epoch 10/30\n",
      "15/15 [==============================] - 2s 109ms/step - loss: 0.4477 - accuracy: 0.8431\n",
      "Epoch 11/30\n",
      "15/15 [==============================] - 2s 108ms/step - loss: 0.3687 - accuracy: 0.8861\n",
      "Epoch 12/30\n",
      "15/15 [==============================] - 2s 109ms/step - loss: 0.3376 - accuracy: 0.8875\n",
      "Epoch 13/30\n",
      "15/15 [==============================] - 2s 107ms/step - loss: 0.2858 - accuracy: 0.9194\n",
      "Epoch 14/30\n",
      "15/15 [==============================] - 2s 110ms/step - loss: 0.2885 - accuracy: 0.9139\n",
      "Epoch 15/30\n",
      "15/15 [==============================] - 2s 115ms/step - loss: 0.2503 - accuracy: 0.9236\n",
      "Epoch 16/30\n",
      "15/15 [==============================] - 2s 125ms/step - loss: 0.2499 - accuracy: 0.9292\n",
      "Epoch 17/30\n",
      "15/15 [==============================] - 2s 114ms/step - loss: 0.1969 - accuracy: 0.9403\n",
      "Epoch 18/30\n",
      "15/15 [==============================] - 2s 114ms/step - loss: 0.2181 - accuracy: 0.9389\n",
      "Epoch 19/30\n",
      "15/15 [==============================] - 2s 116ms/step - loss: 0.2152 - accuracy: 0.9250\n",
      "Epoch 20/30\n",
      "15/15 [==============================] - 2s 113ms/step - loss: 0.1922 - accuracy: 0.9444\n",
      "Epoch 21/30\n",
      "15/15 [==============================] - 2s 120ms/step - loss: 0.1581 - accuracy: 0.9611\n",
      "Epoch 22/30\n",
      "15/15 [==============================] - 2s 113ms/step - loss: 0.1263 - accuracy: 0.9681\n",
      "Epoch 23/30\n",
      "15/15 [==============================] - 2s 115ms/step - loss: 0.1145 - accuracy: 0.9681\n",
      "Epoch 24/30\n",
      "15/15 [==============================] - 2s 118ms/step - loss: 0.1136 - accuracy: 0.9750\n",
      "Epoch 25/30\n",
      "15/15 [==============================] - 2s 119ms/step - loss: 0.0908 - accuracy: 0.9764\n",
      "Epoch 26/30\n",
      "15/15 [==============================] - 2s 111ms/step - loss: 0.0968 - accuracy: 0.9778\n",
      "Epoch 27/30\n",
      "15/15 [==============================] - 2s 112ms/step - loss: 0.0945 - accuracy: 0.9764\n",
      "Epoch 28/30\n",
      "15/15 [==============================] - 2s 110ms/step - loss: 0.1185 - accuracy: 0.9750\n",
      "Epoch 29/30\n",
      "15/15 [==============================] - 2s 111ms/step - loss: 0.1066 - accuracy: 0.9722\n",
      "Epoch 30/30\n",
      "15/15 [==============================] - 2s 110ms/step - loss: 0.0899 - accuracy: 0.9764\n"
     ]
    }
   ],
   "source": [
    "rnn_model = eegRNN(X_train.shape[1],X_train.shape[2],y_train.shape[1])\n",
    "rnn_model.compile(loss = 'categorical_crossentropy', optimizer = 'adam', metrics = ['accuracy'])\n",
    "rnn_history = rnn_model.fit(X_train, y_train, epochs= 30, batch_size = 50)"
   ]
  },
  {
   "cell_type": "code",
   "execution_count": null,
   "metadata": {
    "scrolled": false
   },
   "outputs": [],
   "source": [
    "rnn_model.save('RNN_model')"
   ]
  },
  {
   "cell_type": "code",
   "execution_count": 34,
   "metadata": {
    "scrolled": false
   },
   "outputs": [
    {
     "data": {
      "text/plain": [
       "[<matplotlib.lines.Line2D at 0x1d563780b20>]"
      ]
     },
     "execution_count": 34,
     "metadata": {},
     "output_type": "execute_result"
    },
    {
     "data": {
      "image/png": "[encoded data removed]",
      "text/plain": [
       "<Figure size 432x288 with 1 Axes>"
      ]
     },
     "metadata": {},
     "output_type": "display_data"
    }
   ],
   "source": [
    "plt.plot(rnn_history.history['accuracy'])"
   ]
  },
  {
   "cell_type": "code",
   "execution_count": 35,
   "metadata": {
    "scrolled": true
   },
   "outputs": [
    {
     "data": {
      "text/plain": [
       "[<matplotlib.lines.Line2D at 0x1d5691c7f70>]"
      ]
     },
     "execution_count": 35,
     "metadata": {},
     "output_type": "execute_result"
    },
    {
     "data": {
      "image/png": "[encoded data removed]",
      "text/plain": [
       "<Figure size 432x288 with 1 Axes>"
      ]
     },
     "metadata": {},
     "output_type": "display_data"
    }
   ],
   "source": [
    "plt.plot(rnn_history.history['loss'])"
   ]
  },
  {
   "cell_type": "code",
   "execution_count": 36,
   "metadata": {
    "scrolled": true
   },
   "outputs": [
    {
     "name": "stdout",
     "output_type": "stream",
     "text": [
      "6/6 [==============================] - 1s 28ms/step - loss: 0.7091 - accuracy: 0.7889\n"
     ]
    }
   ],
   "source": [
    "accuracy = rnn_model.evaluate(X_test, y_test)"
   ]
  },
  {
   "cell_type": "code",
   "execution_count": 37,
   "metadata": {},
   "outputs": [
    {
     "data": {
      "text/plain": [
       "<AxesSubplot:>"
      ]
     },
     "execution_count": 37,
     "metadata": {},
     "output_type": "execute_result"
    },
    {
     "data": {
      "image/png": "[encoded data removed]",
      "text/plain": [
       "<Figure size 720x504 with 2 Axes>"
      ]
     },
     "metadata": {},
     "output_type": "display_data"
    }
   ],
   "source": [
    "predictions = rnn_model.predict(X_test)\n",
    "y_pred = [p.argmax() for p in predictions]\n",
    "y_true = [y.argmax() for y in y_test]\n",
    "conf_mat = confusion_matrix(y_true,y_pred)\n",
    "df_conf = pd.DataFrame(conf_mat,index=[i for i in 'Right Left Passive'.split()],\n",
    "                      columns = [i for i in 'Right Left Passive'.split()])\n",
    "plt.figure(figsize = (10,7))\n",
    "sn.heatmap(df_conf, annot=True,cmap='YlGnBu')"
   ]
  },
  {
   "cell_type": "code",
   "execution_count": 38,
   "metadata": {},
   "outputs": [],
   "source": [
    "class eegCNN(tf.keras.Model):\n",
    "    def __init__(self,n_timesteps,n_features,n_outputs):\n",
    "        super().__init__()\n",
    "        self.n_timesteps = n_timesteps\n",
    "        self.n_features = n_features\n",
    "        self.n_outputs =  n_outputs\n",
    "        \n",
    "        self.conv1 = tf.keras.layers.Conv1D(filters=50,kernel_size=3,activation='relu',\n",
    "                                           input_shape=[self.n_timesteps,self.n_features])\n",
    "        self.pool1 = tf.keras.layers.MaxPooling1D(pool_size=3)\n",
    "        self.conv2 = tf.keras.layers.Conv1D(filters=100,kernel_size=3,activation='relu')\n",
    "        self.pool2 = tf.keras.layers.MaxPooling1D(pool_size=3)\n",
    "        self.conv3 = tf.keras.layers.Conv1D(filters=200,kernel_size=3,activation='relu')\n",
    "        self.pool3 = tf.keras.layers.MaxPooling1D(pool_size=3)\n",
    "        self.flat = tf.keras.layers.Flatten()\n",
    "        self.fc = tf.keras.layers.Dense(self.n_outputs, activation='softmax')\n",
    "        \n",
    "    def call(self,inputs):\n",
    "        e = self.conv1(inputs)\n",
    "        e = self.pool1(e)\n",
    "        e = self.conv2(e)\n",
    "        e = self.pool2(e)\n",
    "        e = self.conv3(e)\n",
    "        e = self.pool3(e)\n",
    "        e = self.flat(e)\n",
    "        return self.fc(e)"
   ]
  },
  {
   "cell_type": "code",
   "execution_count": 39,
   "metadata": {},
   "outputs": [
    {
     "name": "stdout",
     "output_type": "stream",
     "text": [
      "Epoch 1/20\n",
      "15/15 [==============================] - 1s 12ms/step - loss: 1.7616 - accuracy: 0.4722\n",
      "Epoch 2/20\n",
      "15/15 [==============================] - 0s 12ms/step - loss: 0.5151 - accuracy: 0.7931\n",
      "Epoch 3/20\n",
      "15/15 [==============================] - 0s 12ms/step - loss: 0.2805 - accuracy: 0.8875\n",
      "Epoch 4/20\n",
      "15/15 [==============================] - 0s 12ms/step - loss: 0.1755 - accuracy: 0.9417\n",
      "Epoch 5/20\n",
      "15/15 [==============================] - 0s 13ms/step - loss: 0.1224 - accuracy: 0.9667\n",
      "Epoch 6/20\n",
      "15/15 [==============================] - 0s 12ms/step - loss: 0.0938 - accuracy: 0.9833\n",
      "Epoch 7/20\n",
      "15/15 [==============================] - 0s 12ms/step - loss: 0.0607 - accuracy: 0.9917\n",
      "Epoch 8/20\n",
      "15/15 [==============================] - 0s 11ms/step - loss: 0.0450 - accuracy: 0.9972\n",
      "Epoch 9/20\n",
      "15/15 [==============================] - 0s 12ms/step - loss: 0.0313 - accuracy: 0.9986\n",
      "Epoch 10/20\n",
      "15/15 [==============================] - 0s 12ms/step - loss: 0.0210 - accuracy: 1.0000\n",
      "Epoch 11/20\n",
      "15/15 [==============================] - 0s 12ms/step - loss: 0.0177 - accuracy: 1.0000\n",
      "Epoch 12/20\n",
      "15/15 [==============================] - 0s 12ms/step - loss: 0.0119 - accuracy: 1.0000\n",
      "Epoch 13/20\n",
      "15/15 [==============================] - 0s 12ms/step - loss: 0.0098 - accuracy: 1.0000\n",
      "Epoch 14/20\n",
      "15/15 [==============================] - 0s 12ms/step - loss: 0.0084 - accuracy: 1.0000\n",
      "Epoch 15/20\n",
      "15/15 [==============================] - 0s 12ms/step - loss: 0.0073 - accuracy: 1.0000\n",
      "Epoch 16/20\n",
      "15/15 [==============================] - 0s 12ms/step - loss: 0.0064 - accuracy: 1.0000\n",
      "Epoch 17/20\n",
      "15/15 [==============================] - 0s 12ms/step - loss: 0.0057 - accuracy: 1.0000\n",
      "Epoch 18/20\n",
      "15/15 [==============================] - 0s 12ms/step - loss: 0.0050 - accuracy: 1.0000\n",
      "Epoch 19/20\n",
      "15/15 [==============================] - 0s 12ms/step - loss: 0.0043 - accuracy: 1.0000\n",
      "Epoch 20/20\n",
      "15/15 [==============================] - 0s 14ms/step - loss: 0.0039 - accuracy: 1.0000\n"
     ]
    }
   ],
   "source": [
    "cnn_model = eegCNN(X_train.shape[1],X_train.shape[2],y_train.shape[1])\n",
    "cnn_model.compile(loss = 'categorical_crossentropy', optimizer = 'adam', metrics = ['accuracy'])\n",
    "cnn_history = cnn_model.fit(X_train, y_train, epochs= 20, batch_size = 50)"
   ]
  },
  {
   "cell_type": "code",
   "execution_count": null,
   "metadata": {
    "scrolled": false
   },
   "outputs": [],
   "source": [
    "#Saving model in Keras:\n",
    "cnn_model.save('CNN_model')"
   ]
  },
  {
   "cell_type": "code",
   "execution_count": 44,
   "metadata": {
    "scrolled": false
   },
   "outputs": [
    {
     "data": {
      "text/plain": [
       "[<matplotlib.lines.Line2D at 0x1d569360130>]"
      ]
     },
     "execution_count": 44,
     "metadata": {},
     "output_type": "execute_result"
    },
    {
     "data": {
      "image/png": "[encoded data removed]",
      "text/plain": [
       "<Figure size 432x288 with 1 Axes>"
      ]
     },
     "metadata": {},
     "output_type": "display_data"
    }
   ],
   "source": [
    "plt.plot(cnn_history.history['accuracy'])"
   ]
  },
  {
   "cell_type": "code",
   "execution_count": 45,
   "metadata": {
    "scrolled": true
   },
   "outputs": [
    {
     "data": {
      "text/plain": [
       "[<matplotlib.lines.Line2D at 0x1d566655940>]"
      ]
     },
     "execution_count": 45,
     "metadata": {},
     "output_type": "execute_result"
    },
    {
     "data": {
      "image/png": "[encoded data removed]",
      "text/plain": [
       "<Figure size 432x288 with 1 Axes>"
      ]
     },
     "metadata": {},
     "output_type": "display_data"
    }
   ],
   "source": [
    "plt.plot(cnn_history.history['loss'])"
   ]
  },
  {
   "cell_type": "code",
   "execution_count": 46,
   "metadata": {},
   "outputs": [
    {
     "name": "stdout",
     "output_type": "stream",
     "text": [
      "6/6 [==============================] - 0s 4ms/step - loss: 0.3930 - accuracy: 0.8889\n"
     ]
    }
   ],
   "source": [
    "accuracy = cnn_model.evaluate(X_test, y_test)"
   ]
  },
  {
   "cell_type": "code",
   "execution_count": 48,
   "metadata": {},
   "outputs": [
    {
     "data": {
      "text/plain": [
       "<AxesSubplot:>"
      ]
     },
     "execution_count": 48,
     "metadata": {},
     "output_type": "execute_result"
    },
    {
     "data": {
      "image/png": "[encoded data removed]",
      "text/plain": [
       "<Figure size 720x504 with 2 Axes>"
      ]
     },
     "metadata": {},
     "output_type": "display_data"
    }
   ],
   "source": [
    "predictions = cnn_model.predict(X_test)\n",
    "y_pred = [p.argmax() for p in predictions]\n",
    "y_true = [y.argmax() for y in y_test]\n",
    "conf_mat = confusion_matrix(y_true,y_pred)\n",
    "df_conf = pd.DataFrame(conf_mat,index=[i for i in 'Right Left Passive'.split()],\n",
    "                      columns = [i for i in 'Right Left Passive'.split()])\n",
    "plt.figure(figsize = (10,7))\n",
    "sn.heatmap(df_conf, annot=True,cmap='YlGnBu')"
   ]
  },
  {
   "cell_type": "code",
   "execution_count": 49,
   "metadata": {},
   "outputs": [],
   "source": [
    "class eegConvRNN(tf.keras.Model):\n",
    "    def __init__(self,n_timesteps,n_features,n_outputs):\n",
    "        super().__init__(n_timesteps,n_features,n_outputs)\n",
    "        self.n_timesteps = n_timesteps\n",
    "        self.n_features = n_features\n",
    "        self.n_outputs =  n_outputs\n",
    "        \n",
    "        #RNN Network\n",
    "        self.rnn1 = tf.keras.layers.LSTM(20, return_sequences=True,input_shape= \n",
    "                                         (self.n_timesteps,self.n_features))\n",
    "        self.rnn2 = tf.keras.layers.LSTM(20,return_sequences=True)\n",
    "        self.rnn3 = tf.keras.layers.LSTM(20)\n",
    "        self.rnn_fc = tf.keras.layers.Dense(self.n_outputs, activation='softmax')\n",
    "        \n",
    "        #CNN Network\n",
    "        self.conv1 = tf.keras.layers.Conv1D(filters=50,kernel_size=3,activation='relu',\n",
    "                                           input_shape=[self.n_timesteps,self.n_features])\n",
    "        self.pool1 = tf.keras.layers.MaxPooling1D(pool_size=3)\n",
    "        self.conv2 = tf.keras.layers.Conv1D(filters=100,kernel_size=3,activation='relu')\n",
    "        self.pool2 = tf.keras.layers.MaxPooling1D(pool_size=3)\n",
    "        self.conv3 = tf.keras.layers.Conv1D(filters=200,kernel_size=3,activation='relu')\n",
    "        self.pool3 = tf.keras.layers.MaxPooling1D(pool_size=3)\n",
    "        self.flat = tf.keras.layers.Flatten()\n",
    "        self.cnn_fc = tf.keras.layers.Dense(self.n_outputs, activation='softmax')\n",
    "        \n",
    "        #Averaged Outuput Layer\n",
    "        self.avg = tf.keras.layers.Average()\n",
    "        self.fc_out = tf.keras.layers.Dense(self.n_outputs, activation='softmax')\n",
    "        \n",
    "    def call(self,inputs):\n",
    "        '''\n",
    "        inputs: np.array with shape [batch, timesteps, feature]\n",
    "        '''\n",
    "        #RNN operations\n",
    "        l = self.rnn1(inputs)\n",
    "        l = self.rnn2(l)\n",
    "        l = self.rnn3(l)\n",
    "        l = self.rnn_fc(l)\n",
    "        \n",
    "        #CNN operations\n",
    "        e = self.conv1(inputs)\n",
    "        e = self.pool1(e)\n",
    "        e = self.conv2(e)\n",
    "        e = self.pool2(e)\n",
    "        e = self.conv3(e)\n",
    "        e = self.pool3(e)\n",
    "        e = self.flat(e)\n",
    "        e = self.cnn_fc(e)\n",
    "        \n",
    "        #Averaged Output Layer\n",
    "        out = self.avg([l,e])\n",
    "        return self.fc_out(out)        "
   ]
  },
  {
   "cell_type": "code",
   "execution_count": 54,
   "metadata": {
    "scrolled": true
   },
   "outputs": [
    {
     "name": "stdout",
     "output_type": "stream",
     "text": [
      "Epoch 1/100\n",
      "11/11 [==============================] - 8s 131ms/step - loss: 1.3674 - accuracy: 0.3569\n",
      "Epoch 2/100\n",
      "11/11 [==============================] - 1s 133ms/step - loss: 1.2983 - accuracy: 0.3181\n",
      "Epoch 3/100\n",
      "11/11 [==============================] - 1s 121ms/step - loss: 1.2737 - accuracy: 0.3181\n",
      "Epoch 4/100\n",
      "11/11 [==============================] - 1s 122ms/step - loss: 1.2576 - accuracy: 0.3181\n",
      "Epoch 5/100\n",
      "11/11 [==============================] - 1s 124ms/step - loss: 1.2422 - accuracy: 0.3181\n",
      "Epoch 6/100\n",
      "11/11 [==============================] - 1s 130ms/step - loss: 1.2219 - accuracy: 0.3181\n",
      "Epoch 7/100\n",
      "11/11 [==============================] - 1s 126ms/step - loss: 1.1980 - accuracy: 0.3181\n",
      "Epoch 8/100\n",
      "11/11 [==============================] - 1s 129ms/step - loss: 1.1759 - accuracy: 0.4167\n",
      "Epoch 9/100\n",
      "11/11 [==============================] - 1s 133ms/step - loss: 1.1636 - accuracy: 0.5111\n",
      "Epoch 10/100\n",
      "11/11 [==============================] - 1s 133ms/step - loss: 1.1489 - accuracy: 0.5236\n",
      "Epoch 11/100\n",
      "11/11 [==============================] - 1s 121ms/step - loss: 1.1369 - accuracy: 0.5431\n",
      "Epoch 12/100\n",
      "11/11 [==============================] - 1s 125ms/step - loss: 1.1290 - accuracy: 0.5486\n",
      "Epoch 13/100\n",
      "11/11 [==============================] - 1s 132ms/step - loss: 1.1202 - accuracy: 0.5444\n",
      "Epoch 14/100\n",
      "11/11 [==============================] - 1s 130ms/step - loss: 1.1082 - accuracy: 0.5611\n",
      "Epoch 15/100\n",
      "11/11 [==============================] - 1s 125ms/step - loss: 1.1008 - accuracy: 0.5722\n",
      "Epoch 16/100\n",
      "11/11 [==============================] - 1s 131ms/step - loss: 1.0949 - accuracy: 0.5722\n",
      "Epoch 17/100\n",
      "11/11 [==============================] - 1s 131ms/step - loss: 1.0908 - accuracy: 0.5667\n",
      "Epoch 18/100\n",
      "11/11 [==============================] - 1s 123ms/step - loss: 1.0867 - accuracy: 0.5653\n",
      "Epoch 19/100\n",
      "11/11 [==============================] - 1s 124ms/step - loss: 1.0751 - accuracy: 0.5750\n",
      "Epoch 20/100\n",
      "11/11 [==============================] - 1s 124ms/step - loss: 1.0683 - accuracy: 0.5722\n",
      "Epoch 21/100\n",
      "11/11 [==============================] - 1s 125ms/step - loss: 1.0590 - accuracy: 0.6472\n",
      "Epoch 22/100\n",
      "11/11 [==============================] - 1s 123ms/step - loss: 1.0596 - accuracy: 0.6375\n",
      "Epoch 23/100\n",
      "11/11 [==============================] - 1s 123ms/step - loss: 1.0654 - accuracy: 0.6194\n",
      "Epoch 24/100\n",
      "11/11 [==============================] - 1s 126ms/step - loss: 1.0535 - accuracy: 0.6417\n",
      "Epoch 25/100\n",
      "11/11 [==============================] - 1s 125ms/step - loss: 1.0442 - accuracy: 0.6542\n",
      "Epoch 26/100\n",
      "11/11 [==============================] - 1s 125ms/step - loss: 1.0375 - accuracy: 0.6556\n",
      "Epoch 27/100\n",
      "11/11 [==============================] - 1s 123ms/step - loss: 1.0305 - accuracy: 0.6611\n",
      "Epoch 28/100\n",
      "11/11 [==============================] - 1s 125ms/step - loss: 1.0236 - accuracy: 0.6611\n",
      "Epoch 29/100\n",
      "11/11 [==============================] - 1s 126ms/step - loss: 1.0171 - accuracy: 0.6722\n",
      "Epoch 30/100\n",
      "11/11 [==============================] - 1s 124ms/step - loss: 1.0191 - accuracy: 0.6681\n",
      "Epoch 31/100\n",
      "11/11 [==============================] - 1s 124ms/step - loss: 1.0083 - accuracy: 0.6847\n",
      "Epoch 32/100\n",
      "11/11 [==============================] - 1s 126ms/step - loss: 1.0034 - accuracy: 0.7014\n",
      "Epoch 33/100\n",
      "11/11 [==============================] - 1s 122ms/step - loss: 0.9976 - accuracy: 0.7181\n",
      "Epoch 34/100\n",
      "11/11 [==============================] - 1s 125ms/step - loss: 1.0112 - accuracy: 0.7000\n",
      "Epoch 35/100\n",
      "11/11 [==============================] - 2s 136ms/step - loss: 1.0152 - accuracy: 0.6694\n",
      "Epoch 36/100\n",
      "11/11 [==============================] - 1s 124ms/step - loss: 1.0001 - accuracy: 0.7167\n",
      "Epoch 37/100\n",
      "11/11 [==============================] - 1s 124ms/step - loss: 0.9823 - accuracy: 0.7417\n",
      "Epoch 38/100\n",
      "11/11 [==============================] - 1s 124ms/step - loss: 0.9621 - accuracy: 0.7611\n",
      "Epoch 39/100\n",
      "11/11 [==============================] - 1s 125ms/step - loss: 0.9465 - accuracy: 0.7847\n",
      "Epoch 40/100\n",
      "11/11 [==============================] - 1s 126ms/step - loss: 0.9334 - accuracy: 0.8000\n",
      "Epoch 41/100\n",
      "11/11 [==============================] - 1s 134ms/step - loss: 0.9186 - accuracy: 0.8194\n",
      "Epoch 42/100\n",
      "11/11 [==============================] - 2s 135ms/step - loss: 0.9209 - accuracy: 0.8028\n",
      "Epoch 43/100\n",
      "11/11 [==============================] - 1s 122ms/step - loss: 0.9121 - accuracy: 0.8028\n",
      "Epoch 44/100\n",
      "11/11 [==============================] - 1s 125ms/step - loss: 0.9219 - accuracy: 0.7792\n",
      "Epoch 45/100\n",
      "11/11 [==============================] - 1s 123ms/step - loss: 0.9119 - accuracy: 0.7875\n",
      "Epoch 46/100\n",
      "11/11 [==============================] - 1s 124ms/step - loss: 0.8903 - accuracy: 0.8153\n",
      "Epoch 47/100\n",
      "11/11 [==============================] - 1s 124ms/step - loss: 0.8747 - accuracy: 0.8333\n",
      "Epoch 48/100\n",
      "11/11 [==============================] - 1s 124ms/step - loss: 0.8591 - accuracy: 0.8472\n",
      "Epoch 49/100\n",
      "11/11 [==============================] - 1s 125ms/step - loss: 0.8601 - accuracy: 0.8389\n",
      "Epoch 50/100\n",
      "11/11 [==============================] - 1s 124ms/step - loss: 0.8747 - accuracy: 0.8042\n",
      "Epoch 51/100\n",
      "11/11 [==============================] - 1s 124ms/step - loss: 0.8663 - accuracy: 0.8125\n",
      "Epoch 52/100\n",
      "11/11 [==============================] - 1s 124ms/step - loss: 0.8632 - accuracy: 0.8139\n",
      "Epoch 53/100\n",
      "11/11 [==============================] - 1s 123ms/step - loss: 0.8407 - accuracy: 0.8361\n",
      "Epoch 54/100\n",
      "11/11 [==============================] - 1s 124ms/step - loss: 0.8363 - accuracy: 0.8389\n",
      "Epoch 55/100\n",
      "11/11 [==============================] - 1s 126ms/step - loss: 0.8167 - accuracy: 0.8542\n",
      "Epoch 56/100\n",
      "11/11 [==============================] - 1s 123ms/step - loss: 0.8575 - accuracy: 0.8014\n",
      "Epoch 57/100\n",
      "11/11 [==============================] - 1s 124ms/step - loss: 0.8977 - accuracy: 0.7236\n",
      "Epoch 58/100\n",
      "11/11 [==============================] - 1s 124ms/step - loss: 0.8626 - accuracy: 0.7722\n",
      "Epoch 59/100\n",
      "11/11 [==============================] - 1s 122ms/step - loss: 0.8421 - accuracy: 0.7986\n",
      "Epoch 60/100\n",
      "11/11 [==============================] - 1s 124ms/step - loss: 0.8384 - accuracy: 0.7889\n",
      "Epoch 61/100\n",
      "11/11 [==============================] - 1s 122ms/step - loss: 0.8241 - accuracy: 0.8208\n",
      "Epoch 62/100\n",
      "11/11 [==============================] - 1s 127ms/step - loss: 0.8140 - accuracy: 0.8194\n",
      "Epoch 63/100\n",
      "11/11 [==============================] - 1s 125ms/step - loss: 0.8042 - accuracy: 0.8264\n",
      "Epoch 64/100\n",
      "11/11 [==============================] - 2s 138ms/step - loss: 0.7983 - accuracy: 0.8292\n",
      "Epoch 65/100\n",
      "11/11 [==============================] - 1s 136ms/step - loss: 0.7804 - accuracy: 0.8528\n",
      "Epoch 66/100\n",
      "11/11 [==============================] - 1s 127ms/step - loss: 0.7653 - accuracy: 0.8653\n",
      "Epoch 67/100\n",
      "11/11 [==============================] - 1s 125ms/step - loss: 0.7515 - accuracy: 0.8750\n",
      "Epoch 68/100\n",
      "11/11 [==============================] - 1s 125ms/step - loss: 0.7411 - accuracy: 0.8875\n",
      "Epoch 69/100\n",
      "11/11 [==============================] - 1s 128ms/step - loss: 0.7458 - accuracy: 0.8778\n",
      "Epoch 70/100\n",
      "11/11 [==============================] - 1s 125ms/step - loss: 0.7456 - accuracy: 0.8722\n",
      "Epoch 71/100\n",
      "11/11 [==============================] - 1s 129ms/step - loss: 0.7398 - accuracy: 0.8722\n",
      "Epoch 72/100\n",
      "11/11 [==============================] - 1s 125ms/step - loss: 0.7344 - accuracy: 0.8722\n",
      "Epoch 73/100\n",
      "11/11 [==============================] - 1s 127ms/step - loss: 0.7355 - accuracy: 0.8667\n",
      "Epoch 74/100\n",
      "11/11 [==============================] - 1s 128ms/step - loss: 0.7521 - accuracy: 0.8458\n",
      "Epoch 75/100\n",
      "11/11 [==============================] - 1s 128ms/step - loss: 0.7285 - accuracy: 0.8694\n",
      "Epoch 76/100\n",
      "11/11 [==============================] - 1s 125ms/step - loss: 0.7126 - accuracy: 0.8819\n",
      "Epoch 77/100\n",
      "11/11 [==============================] - 1s 124ms/step - loss: 0.7157 - accuracy: 0.8750\n",
      "Epoch 78/100\n",
      "11/11 [==============================] - 1s 126ms/step - loss: 0.7564 - accuracy: 0.8194\n",
      "Epoch 79/100\n",
      "11/11 [==============================] - 1s 125ms/step - loss: 0.7448 - accuracy: 0.8264\n",
      "Epoch 80/100\n",
      "11/11 [==============================] - 1s 125ms/step - loss: 0.7469 - accuracy: 0.8208\n",
      "Epoch 81/100\n"
     ]
    },
    {
     "name": "stdout",
     "output_type": "stream",
     "text": [
      "11/11 [==============================] - 1s 126ms/step - loss: 0.7319 - accuracy: 0.8361\n",
      "Epoch 82/100\n",
      "11/11 [==============================] - 1s 128ms/step - loss: 0.7035 - accuracy: 0.8653\n",
      "Epoch 83/100\n",
      "11/11 [==============================] - 1s 127ms/step - loss: 0.6919 - accuracy: 0.8708\n",
      "Epoch 84/100\n",
      "11/11 [==============================] - 1s 127ms/step - loss: 0.7332 - accuracy: 0.8264\n",
      "Epoch 85/100\n",
      "11/11 [==============================] - 1s 124ms/step - loss: 0.7259 - accuracy: 0.8333\n",
      "Epoch 86/100\n",
      "11/11 [==============================] - 1s 125ms/step - loss: 0.6823 - accuracy: 0.8764\n",
      "Epoch 87/100\n",
      "11/11 [==============================] - 1s 126ms/step - loss: 0.6748 - accuracy: 0.8819\n",
      "Epoch 88/100\n",
      "11/11 [==============================] - 1s 126ms/step - loss: 0.6637 - accuracy: 0.8889\n",
      "Epoch 89/100\n",
      "11/11 [==============================] - 1s 126ms/step - loss: 0.7000 - accuracy: 0.8556\n",
      "Epoch 90/100\n",
      "11/11 [==============================] - 1s 125ms/step - loss: 0.6651 - accuracy: 0.8833\n",
      "Epoch 91/100\n",
      "11/11 [==============================] - 1s 125ms/step - loss: 0.6520 - accuracy: 0.8931\n",
      "Epoch 92/100\n",
      "11/11 [==============================] - 1s 127ms/step - loss: 0.6386 - accuracy: 0.9014\n",
      "Epoch 93/100\n",
      "11/11 [==============================] - 1s 125ms/step - loss: 0.6300 - accuracy: 0.9125\n",
      "Epoch 94/100\n",
      "11/11 [==============================] - 1s 125ms/step - loss: 0.6222 - accuracy: 0.9139\n",
      "Epoch 95/100\n",
      "11/11 [==============================] - 1s 122ms/step - loss: 0.6266 - accuracy: 0.9056\n",
      "Epoch 96/100\n",
      "11/11 [==============================] - 1s 125ms/step - loss: 0.6226 - accuracy: 0.9056\n",
      "Epoch 97/100\n",
      "11/11 [==============================] - 1s 127ms/step - loss: 0.6039 - accuracy: 0.9208\n",
      "Epoch 98/100\n",
      "11/11 [==============================] - 1s 125ms/step - loss: 0.6059 - accuracy: 0.9139\n",
      "Epoch 99/100\n",
      "11/11 [==============================] - 1s 126ms/step - loss: 0.6112 - accuracy: 0.9125\n",
      "Epoch 100/100\n",
      "11/11 [==============================] - 1s 126ms/step - loss: 0.6037 - accuracy: 0.9139\n"
     ]
    }
   ],
   "source": [
    "c_rnnModel = eegConvRNN(X_train.shape[1],X_train.shape[2],y_train.shape[1])\n",
    "c_rnnModel.compile(loss = 'categorical_crossentropy', optimizer = 'adam', metrics = ['accuracy'])\n",
    "crnn_history = c_rnnModel.fit(X_train, y_train, epochs= 100, batch_size = 70)"
   ]
  },
  {
   "cell_type": "code",
   "execution_count": null,
   "metadata": {
    "scrolled": true
   },
   "outputs": [],
   "source": [
    "#Saving model in Keras:\n",
    "c_rnnModel.save('RNN_CNN_Model')"
   ]
  },
  {
   "cell_type": "code",
   "execution_count": 56,
   "metadata": {},
   "outputs": [
    {
     "data": {
      "text/plain": [
       "Text(0.5, 0, 'Epochs')"
      ]
     },
     "execution_count": 56,
     "metadata": {},
     "output_type": "execute_result"
    },
    {
     "data": {
      "image/png": "[encoded data removed]",
      "text/plain": [
       "<Figure size 432x288 with 1 Axes>"
      ]
     },
     "metadata": {},
     "output_type": "display_data"
    }
   ],
   "source": [
    "sn.lineplot(x=list(range(100)),y=crnn_history.history['accuracy'])\n",
    "plt.ylabel('Accuracy')\n",
    "plt.xlabel('Epochs')"
   ]
  },
  {
   "cell_type": "code",
   "execution_count": 57,
   "metadata": {},
   "outputs": [
    {
     "data": {
      "text/plain": [
       "[<matplotlib.lines.Line2D at 0x1d547b0de50>]"
      ]
     },
     "execution_count": 57,
     "metadata": {},
     "output_type": "execute_result"
    },
    {
     "data": {
      "image/png": "[encoded data removed]",
      "text/plain": [
       "<Figure size 432x288 with 1 Axes>"
      ]
     },
     "metadata": {},
     "output_type": "display_data"
    }
   ],
   "source": [
    "plt.plot(crnn_history.history['accuracy'])"
   ]
  },
  {
   "cell_type": "code",
   "execution_count": 58,
   "metadata": {
    "scrolled": true
   },
   "outputs": [
    {
     "name": "stdout",
     "output_type": "stream",
     "text": [
      "6/6 [==============================] - 1s 28ms/step - loss: 0.8050 - accuracy: 0.7667\n"
     ]
    }
   ],
   "source": [
    "accuracy = c_rnnModel.evaluate(X_test, y_test)"
   ]
  },
  {
   "cell_type": "code",
   "execution_count": 60,
   "metadata": {},
   "outputs": [
    {
     "data": {
      "text/plain": [
       "<AxesSubplot:>"
      ]
     },
     "execution_count": 60,
     "metadata": {},
     "output_type": "execute_result"
    },
    {
     "data": {
      "image/png": "[encoded data removed]",
      "text/plain": [
       "<Figure size 720x504 with 2 Axes>"
      ]
     },
     "metadata": {},
     "output_type": "display_data"
    }
   ],
   "source": [
    "predictions = c_rnnModel.predict(X_test)\n",
    "y_pred = [p.argmax() for p in predictions]\n",
    "y_true = [y.argmax() for y in y_test]\n",
    "conf_mat = confusion_matrix(y_true,y_pred)\n",
    "df_conf = pd.DataFrame(conf_mat,index=[i for i in 'Right Left Passive'.split()],\n",
    "                      columns = [i for i in 'Right Left Passive'.split()])\n",
    "plt.figure(figsize = (10,7))\n",
    "sn.heatmap(df_conf, annot=True,cmap='Blues')"
   ]
  },
  {
   "cell_type": "code",
   "execution_count": 63,
   "metadata": {},
   "outputs": [
    {
     "name": "stdout",
     "output_type": "stream",
     "text": [
      "              precision    recall  f1-score   support\n",
      "\n",
      "           1       0.73      0.60      0.66        53\n",
      "           2       0.82      0.83      0.83        72\n",
      "           3       0.73      0.84      0.78        55\n",
      "\n",
      "    accuracy                           0.77       180\n",
      "   macro avg       0.76      0.76      0.76       180\n",
      "weighted avg       0.77      0.77      0.76       180\n",
      "\n"
     ]
    }
   ],
   "source": [
    "print(classification_report(y_true,y_pred))"
   ]
  }
 ],
 "metadata": {
  "kernelspec": {
   "display_name": "Python 3 (ipykernel)",
   "language": "python",
   "name": "python3"
  },
  "language_info": {
   "codemirror_mode": {
    "name": "ipython",
    "version": 3
   },
   "file_extension": ".py",
   "mimetype": "text/x-python",
   "name": "python",
   "nbconvert_exporter": "python",
   "pygments_lexer": "ipython3",
   "version": "3.8.5"
  }
 },
 "nbformat": 4,
 "nbformat_minor": 4
}
